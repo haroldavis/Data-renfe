{
 "cells": [
  {
   "cell_type": "code",
   "execution_count": 2,
   "metadata": {},
   "outputs": [],
   "source": [
    "#pip install -U scikit-learn\n",
    "#pip install pandas\n",
    "#pip install seaborn"
   ]
  },
  {
   "cell_type": "code",
   "execution_count": 3,
   "metadata": {},
   "outputs": [],
   "source": [
    "#importamos librerías\n",
    "import pandas as pd\n",
    "import numpy as np\n",
    "import matplotlib.pyplot as plt\n",
    "import seaborn as sns\n",
    "from sklearn.preprocessing import LabelEncoder,MinMaxScaler"
   ]
  },
  {
   "cell_type": "code",
   "execution_count": 4,
   "metadata": {},
   "outputs": [],
   "source": [
    "renfe = pd.read_csv(\"./data/renfe.csv\")"
   ]
  },
  {
   "cell_type": "markdown",
   "metadata": {},
   "source": [
    "### Reading file:"
   ]
  },
  {
   "cell_type": "code",
   "execution_count": 5,
   "metadata": {},
   "outputs": [
    {
     "name": "stdout",
     "output_type": "stream",
     "text": [
      "<class 'pandas.core.frame.DataFrame'>\n",
      "RangeIndex: 383568 entries, 0 to 383567\n",
      "Data columns (total 9 columns):\n",
      " #   Column          Non-Null Count   Dtype  \n",
      "---  ------          --------------   -----  \n",
      " 0   FECHA_CONSULTA  383568 non-null  object \n",
      " 1   FECHA_INICIO    383568 non-null  object \n",
      " 2   FECHA_FIN       383568 non-null  object \n",
      " 3   CIUDAD_ORIGEN   383568 non-null  object \n",
      " 4   CIUDAD_DESTINO  383568 non-null  object \n",
      " 5   TIPO_TREN       345211 non-null  object \n",
      " 6   TIPO_TARIFA     344009 non-null  object \n",
      " 7   CLASE           344000 non-null  object \n",
      " 8   PRECIO          355038 non-null  float64\n",
      "dtypes: float64(1), object(8)\n",
      "memory usage: 26.3+ MB\n"
     ]
    }
   ],
   "source": [
    "renfe.info()"
   ]
  },
  {
   "cell_type": "code",
   "execution_count": 6,
   "metadata": {},
   "outputs": [
    {
     "data": {
      "text/html": [
       "<div>\n",
       "<style scoped>\n",
       "    .dataframe tbody tr th:only-of-type {\n",
       "        vertical-align: middle;\n",
       "    }\n",
       "\n",
       "    .dataframe tbody tr th {\n",
       "        vertical-align: top;\n",
       "    }\n",
       "\n",
       "    .dataframe thead th {\n",
       "        text-align: right;\n",
       "    }\n",
       "</style>\n",
       "<table border=\"1\" class=\"dataframe\">\n",
       "  <thead>\n",
       "    <tr style=\"text-align: right;\">\n",
       "      <th></th>\n",
       "      <th>FECHA_CONSULTA</th>\n",
       "      <th>FECHA_INICIO</th>\n",
       "      <th>FECHA_FIN</th>\n",
       "      <th>CIUDAD_ORIGEN</th>\n",
       "      <th>CIUDAD_DESTINO</th>\n",
       "      <th>TIPO_TREN</th>\n",
       "      <th>TIPO_TARIFA</th>\n",
       "      <th>CLASE</th>\n",
       "      <th>PRECIO</th>\n",
       "    </tr>\n",
       "  </thead>\n",
       "  <tbody>\n",
       "    <tr>\n",
       "      <th>0</th>\n",
       "      <td>2019-05-25 01:43:03</td>\n",
       "      <td>2019-06-28 20:36:00</td>\n",
       "      <td>2019-06-28 23:14:00</td>\n",
       "      <td>SEVILLA</td>\n",
       "      <td>MADRID</td>\n",
       "      <td>ALVIA</td>\n",
       "      <td>Flexible</td>\n",
       "      <td>Turista</td>\n",
       "      <td>67.20</td>\n",
       "    </tr>\n",
       "    <tr>\n",
       "      <th>1</th>\n",
       "      <td>2019-06-22 13:05:11</td>\n",
       "      <td>2019-07-14 10:00:00</td>\n",
       "      <td>2019-07-14 13:10:00</td>\n",
       "      <td>BARCELONA</td>\n",
       "      <td>MADRID</td>\n",
       "      <td>AVE</td>\n",
       "      <td>Flexible</td>\n",
       "      <td>Turista</td>\n",
       "      <td>107.70</td>\n",
       "    </tr>\n",
       "    <tr>\n",
       "      <th>2</th>\n",
       "      <td>2019-04-17 06:24:03</td>\n",
       "      <td>2019-05-23 13:40:00</td>\n",
       "      <td>2019-05-23 16:10:00</td>\n",
       "      <td>SEVILLA</td>\n",
       "      <td>MADRID</td>\n",
       "      <td>AVE</td>\n",
       "      <td>Promo</td>\n",
       "      <td>Turista</td>\n",
       "      <td>47.30</td>\n",
       "    </tr>\n",
       "    <tr>\n",
       "      <th>3</th>\n",
       "      <td>2019-05-10 21:21:59</td>\n",
       "      <td>2019-05-29 14:50:00</td>\n",
       "      <td>2019-05-29 22:30:00</td>\n",
       "      <td>VALENCIA</td>\n",
       "      <td>MADRID</td>\n",
       "      <td>REGIONAL</td>\n",
       "      <td>Adulto ida</td>\n",
       "      <td>Turista</td>\n",
       "      <td>28.35</td>\n",
       "    </tr>\n",
       "    <tr>\n",
       "      <th>4</th>\n",
       "      <td>2019-05-09 19:43:37</td>\n",
       "      <td>2019-06-26 13:25:00</td>\n",
       "      <td>2019-06-26 16:24:00</td>\n",
       "      <td>MADRID</td>\n",
       "      <td>BARCELONA</td>\n",
       "      <td>AVE-TGV</td>\n",
       "      <td>Promo</td>\n",
       "      <td>Turista</td>\n",
       "      <td>66.75</td>\n",
       "    </tr>\n",
       "  </tbody>\n",
       "</table>\n",
       "</div>"
      ],
      "text/plain": [
       "        FECHA_CONSULTA         FECHA_INICIO            FECHA_FIN  \\\n",
       "0  2019-05-25 01:43:03  2019-06-28 20:36:00  2019-06-28 23:14:00   \n",
       "1  2019-06-22 13:05:11  2019-07-14 10:00:00  2019-07-14 13:10:00   \n",
       "2  2019-04-17 06:24:03  2019-05-23 13:40:00  2019-05-23 16:10:00   \n",
       "3  2019-05-10 21:21:59  2019-05-29 14:50:00  2019-05-29 22:30:00   \n",
       "4  2019-05-09 19:43:37  2019-06-26 13:25:00  2019-06-26 16:24:00   \n",
       "\n",
       "  CIUDAD_ORIGEN CIUDAD_DESTINO TIPO_TREN TIPO_TARIFA    CLASE  PRECIO  \n",
       "0       SEVILLA         MADRID     ALVIA    Flexible  Turista   67.20  \n",
       "1     BARCELONA         MADRID       AVE    Flexible  Turista  107.70  \n",
       "2       SEVILLA         MADRID       AVE       Promo  Turista   47.30  \n",
       "3      VALENCIA         MADRID  REGIONAL  Adulto ida  Turista   28.35  \n",
       "4        MADRID      BARCELONA   AVE-TGV       Promo  Turista   66.75  "
      ]
     },
     "execution_count": 6,
     "metadata": {},
     "output_type": "execute_result"
    }
   ],
   "source": [
    "renfe.head()"
   ]
  },
  {
   "cell_type": "markdown",
   "metadata": {},
   "source": [
    "### Checking nulls in our datasheet"
   ]
  },
  {
   "cell_type": "code",
   "execution_count": 7,
   "metadata": {},
   "outputs": [
    {
     "data": {
      "text/plain": [
       "FECHA_CONSULTA        0\n",
       "FECHA_INICIO          0\n",
       "FECHA_FIN             0\n",
       "CIUDAD_ORIGEN         0\n",
       "CIUDAD_DESTINO        0\n",
       "TIPO_TREN         38357\n",
       "TIPO_TARIFA       39559\n",
       "CLASE             39568\n",
       "PRECIO            28530\n",
       "dtype: int64"
      ]
     },
     "execution_count": 7,
     "metadata": {},
     "output_type": "execute_result"
    }
   ],
   "source": [
    "renfe.isnull().sum()"
   ]
  },
  {
   "cell_type": "code",
   "execution_count": 8,
   "metadata": {},
   "outputs": [
    {
     "data": {
      "text/plain": [
       "FECHA_CONSULTA        0\n",
       "FECHA_INICIO          0\n",
       "FECHA_FIN             0\n",
       "CIUDAD_ORIGEN         0\n",
       "CIUDAD_DESTINO        0\n",
       "TIPO_TREN         38357\n",
       "TIPO_TARIFA       39559\n",
       "CLASE             39568\n",
       "PRECIO            28530\n",
       "dtype: int64"
      ]
     },
     "execution_count": 8,
     "metadata": {},
     "output_type": "execute_result"
    }
   ],
   "source": [
    "renfe.isnull().sum()"
   ]
  },
  {
   "cell_type": "markdown",
   "metadata": {},
   "source": [
    "### Deleting rows where PRECIO is null, as PRECIO is our Target"
   ]
  },
  {
   "cell_type": "code",
   "execution_count": 9,
   "metadata": {},
   "outputs": [],
   "source": [
    "renfe2 = renfe.copy()"
   ]
  },
  {
   "cell_type": "code",
   "execution_count": 10,
   "metadata": {},
   "outputs": [],
   "source": [
    "renfe2.dropna(subset=[\"PRECIO\"], inplace=True)"
   ]
  },
  {
   "cell_type": "code",
   "execution_count": 11,
   "metadata": {},
   "outputs": [
    {
     "data": {
      "text/plain": [
       "FECHA_CONSULTA        0\n",
       "FECHA_INICIO          0\n",
       "FECHA_FIN             0\n",
       "CIUDAD_ORIGEN         0\n",
       "CIUDAD_DESTINO        0\n",
       "TIPO_TREN         35443\n",
       "TIPO_TARIFA       35453\n",
       "CLASE             35554\n",
       "PRECIO                0\n",
       "dtype: int64"
      ]
     },
     "execution_count": 11,
     "metadata": {},
     "output_type": "execute_result"
    }
   ],
   "source": [
    "renfe2.isnull().sum()"
   ]
  },
  {
   "cell_type": "markdown",
   "metadata": {},
   "source": [
    "#### Will decide what to do with rest of nulls later on\n"
   ]
  },
  {
   "cell_type": "code",
   "execution_count": 12,
   "metadata": {},
   "outputs": [],
   "source": [
    "#### Now we´ll check duplicates and will delete them\n",
    "#renfe2.duplicated().sum()\n",
    "#renfe2[renfe2.duplicated(keep=False)]\n",
    "renfe2.duplicated().value_counts()\n",
    "renfe2.drop_duplicates(inplace = True)"
   ]
  },
  {
   "cell_type": "code",
   "execution_count": 13,
   "metadata": {},
   "outputs": [
    {
     "name": "stdout",
     "output_type": "stream",
     "text": [
      "<class 'pandas.core.frame.DataFrame'>\n",
      "Index: 355028 entries, 0 to 383567\n",
      "Data columns (total 9 columns):\n",
      " #   Column          Non-Null Count   Dtype  \n",
      "---  ------          --------------   -----  \n",
      " 0   FECHA_CONSULTA  355028 non-null  object \n",
      " 1   FECHA_INICIO    355028 non-null  object \n",
      " 2   FECHA_FIN       355028 non-null  object \n",
      " 3   CIUDAD_ORIGEN   355028 non-null  object \n",
      " 4   CIUDAD_DESTINO  355028 non-null  object \n",
      " 5   TIPO_TREN       319585 non-null  object \n",
      " 6   TIPO_TARIFA     319575 non-null  object \n",
      " 7   CLASE           319474 non-null  object \n",
      " 8   PRECIO          355028 non-null  float64\n",
      "dtypes: float64(1), object(8)\n",
      "memory usage: 27.1+ MB\n"
     ]
    }
   ],
   "source": [
    "renfe2.info()"
   ]
  },
  {
   "cell_type": "code",
   "execution_count": 14,
   "metadata": {},
   "outputs": [
    {
     "name": "stdout",
     "output_type": "stream",
     "text": [
      "<class 'pandas.core.frame.DataFrame'>\n",
      "RangeIndex: 355028 entries, 0 to 355027\n",
      "Data columns (total 9 columns):\n",
      " #   Column          Non-Null Count   Dtype  \n",
      "---  ------          --------------   -----  \n",
      " 0   FECHA_CONSULTA  355028 non-null  object \n",
      " 1   FECHA_INICIO    355028 non-null  object \n",
      " 2   FECHA_FIN       355028 non-null  object \n",
      " 3   CIUDAD_ORIGEN   355028 non-null  object \n",
      " 4   CIUDAD_DESTINO  355028 non-null  object \n",
      " 5   TIPO_TREN       319585 non-null  object \n",
      " 6   TIPO_TARIFA     319575 non-null  object \n",
      " 7   CLASE           319474 non-null  object \n",
      " 8   PRECIO          355028 non-null  float64\n",
      "dtypes: float64(1), object(8)\n",
      "memory usage: 24.4+ MB\n"
     ]
    }
   ],
   "source": [
    "renfe2.reset_index(inplace=True, drop= True)\n",
    "renfe2.info()"
   ]
  },
  {
   "cell_type": "markdown",
   "metadata": {},
   "source": [
    "## New copy for check the variables"
   ]
  },
  {
   "cell_type": "code",
   "execution_count": 15,
   "metadata": {},
   "outputs": [],
   "source": [
    "renfe3 = renfe2.copy()"
   ]
  },
  {
   "cell_type": "markdown",
   "metadata": {},
   "source": [
    "### in order to eliminate nulls, will asign them some values in every column. so that\n",
    "### TIPO_TARIFA NULLs will be \"sin_tarifa\"\n",
    "### TIPO_TREN NULLs will be \"sin_tipo_tren\"\n",
    "### CLASE NULLs will be \"sin_clase\"\n"
   ]
  },
  {
   "cell_type": "code",
   "execution_count": 16,
   "metadata": {},
   "outputs": [
    {
     "name": "stderr",
     "output_type": "stream",
     "text": [
      "C:\\Users\\harol\\AppData\\Local\\Temp\\ipykernel_17208\\108771103.py:1: FutureWarning: A value is trying to be set on a copy of a DataFrame or Series through chained assignment using an inplace method.\n",
      "The behavior will change in pandas 3.0. This inplace method will never work because the intermediate object on which we are setting values always behaves as a copy.\n",
      "\n",
      "For example, when doing 'df[col].method(value, inplace=True)', try using 'df.method({col: value}, inplace=True)' or df[col] = df[col].method(value) instead, to perform the operation inplace on the original object.\n",
      "\n",
      "\n",
      "  renfe3[\"TIPO_TARIFA\"].fillna(\"sin tarifa\", inplace = True)\n",
      "C:\\Users\\harol\\AppData\\Local\\Temp\\ipykernel_17208\\108771103.py:2: FutureWarning: A value is trying to be set on a copy of a DataFrame or Series through chained assignment using an inplace method.\n",
      "The behavior will change in pandas 3.0. This inplace method will never work because the intermediate object on which we are setting values always behaves as a copy.\n",
      "\n",
      "For example, when doing 'df[col].method(value, inplace=True)', try using 'df.method({col: value}, inplace=True)' or df[col] = df[col].method(value) instead, to perform the operation inplace on the original object.\n",
      "\n",
      "\n",
      "  renfe3[\"TIPO_TREN\"].fillna(\"sin_tipo_tren\", inplace = True)\n",
      "C:\\Users\\harol\\AppData\\Local\\Temp\\ipykernel_17208\\108771103.py:3: FutureWarning: A value is trying to be set on a copy of a DataFrame or Series through chained assignment using an inplace method.\n",
      "The behavior will change in pandas 3.0. This inplace method will never work because the intermediate object on which we are setting values always behaves as a copy.\n",
      "\n",
      "For example, when doing 'df[col].method(value, inplace=True)', try using 'df.method({col: value}, inplace=True)' or df[col] = df[col].method(value) instead, to perform the operation inplace on the original object.\n",
      "\n",
      "\n",
      "  renfe3[\"CLASE\"].fillna(\"sin_clase\", inplace = True)\n"
     ]
    }
   ],
   "source": [
    "renfe3[\"TIPO_TARIFA\"].fillna(\"sin tarifa\", inplace = True)\n",
    "renfe3[\"TIPO_TREN\"].fillna(\"sin_tipo_tren\", inplace = True)\n",
    "renfe3[\"CLASE\"].fillna(\"sin_clase\", inplace = True)"
   ]
  },
  {
   "cell_type": "code",
   "execution_count": 17,
   "metadata": {},
   "outputs": [
    {
     "data": {
      "text/plain": [
       "FECHA_CONSULTA    0\n",
       "FECHA_INICIO      0\n",
       "FECHA_FIN         0\n",
       "CIUDAD_ORIGEN     0\n",
       "CIUDAD_DESTINO    0\n",
       "TIPO_TREN         0\n",
       "TIPO_TARIFA       0\n",
       "CLASE             0\n",
       "PRECIO            0\n",
       "dtype: int64"
      ]
     },
     "execution_count": 17,
     "metadata": {},
     "output_type": "execute_result"
    }
   ],
   "source": [
    "renfe3.isnull().sum()"
   ]
  },
  {
   "cell_type": "code",
   "execution_count": 18,
   "metadata": {},
   "outputs": [],
   "source": [
    "renfe4 = renfe3.copy()"
   ]
  },
  {
   "cell_type": "markdown",
   "metadata": {},
   "source": [
    "### we create a new column named : DAYS_TO_TRIP \n",
    "### we create a new column named : JOURNEY_TIME \n",
    "### we need first at all, to change  \"FECHA_CONSULTA\" and \"FECHA_INICIO\" and \"FECHA_FIN\" to datetime format"
   ]
  },
  {
   "cell_type": "code",
   "execution_count": 19,
   "metadata": {},
   "outputs": [],
   "source": [
    "renfe4[\"FECHA_INICIO\"]=pd.to_datetime(renfe4[\"FECHA_INICIO\"])\n",
    "renfe4[\"FECHA_FIN\"]=pd.to_datetime(renfe4[\"FECHA_FIN\"])\n",
    "renfe4[\"FECHA_CONSULTA\"]=pd.to_datetime(renfe4[\"FECHA_CONSULTA\"])"
   ]
  },
  {
   "cell_type": "code",
   "execution_count": 20,
   "metadata": {},
   "outputs": [],
   "source": [
    "renfe4[\"DAYS_TO_TRIP\"]= (renfe4[\"FECHA_INICIO\"]-renfe4[\"FECHA_CONSULTA\"])/np.timedelta64(1440,'m')"
   ]
  },
  {
   "cell_type": "code",
   "execution_count": 22,
   "metadata": {},
   "outputs": [],
   "source": [
    "renfe4[\"DAYS_TO_TRIP\"] = renfe4[\"DAYS_TO_TRIP\"].round(2)"
   ]
  },
  {
   "cell_type": "code",
   "execution_count": 23,
   "metadata": {},
   "outputs": [
    {
     "data": {
      "text/html": [
       "<div>\n",
       "<style scoped>\n",
       "    .dataframe tbody tr th:only-of-type {\n",
       "        vertical-align: middle;\n",
       "    }\n",
       "\n",
       "    .dataframe tbody tr th {\n",
       "        vertical-align: top;\n",
       "    }\n",
       "\n",
       "    .dataframe thead th {\n",
       "        text-align: right;\n",
       "    }\n",
       "</style>\n",
       "<table border=\"1\" class=\"dataframe\">\n",
       "  <thead>\n",
       "    <tr style=\"text-align: right;\">\n",
       "      <th></th>\n",
       "      <th>FECHA_CONSULTA</th>\n",
       "      <th>FECHA_INICIO</th>\n",
       "      <th>FECHA_FIN</th>\n",
       "      <th>CIUDAD_ORIGEN</th>\n",
       "      <th>CIUDAD_DESTINO</th>\n",
       "      <th>TIPO_TREN</th>\n",
       "      <th>TIPO_TARIFA</th>\n",
       "      <th>CLASE</th>\n",
       "      <th>PRECIO</th>\n",
       "      <th>DAYS_TO_TRIP</th>\n",
       "    </tr>\n",
       "  </thead>\n",
       "  <tbody>\n",
       "    <tr>\n",
       "      <th>0</th>\n",
       "      <td>2019-05-25 01:43:03</td>\n",
       "      <td>2019-06-28 20:36:00</td>\n",
       "      <td>2019-06-28 23:14:00</td>\n",
       "      <td>SEVILLA</td>\n",
       "      <td>MADRID</td>\n",
       "      <td>ALVIA</td>\n",
       "      <td>Flexible</td>\n",
       "      <td>Turista</td>\n",
       "      <td>67.20</td>\n",
       "      <td>34.79</td>\n",
       "    </tr>\n",
       "    <tr>\n",
       "      <th>1</th>\n",
       "      <td>2019-06-22 13:05:11</td>\n",
       "      <td>2019-07-14 10:00:00</td>\n",
       "      <td>2019-07-14 13:10:00</td>\n",
       "      <td>BARCELONA</td>\n",
       "      <td>MADRID</td>\n",
       "      <td>AVE</td>\n",
       "      <td>Flexible</td>\n",
       "      <td>Turista</td>\n",
       "      <td>107.70</td>\n",
       "      <td>21.87</td>\n",
       "    </tr>\n",
       "    <tr>\n",
       "      <th>2</th>\n",
       "      <td>2019-04-17 06:24:03</td>\n",
       "      <td>2019-05-23 13:40:00</td>\n",
       "      <td>2019-05-23 16:10:00</td>\n",
       "      <td>SEVILLA</td>\n",
       "      <td>MADRID</td>\n",
       "      <td>AVE</td>\n",
       "      <td>Promo</td>\n",
       "      <td>Turista</td>\n",
       "      <td>47.30</td>\n",
       "      <td>36.30</td>\n",
       "    </tr>\n",
       "    <tr>\n",
       "      <th>3</th>\n",
       "      <td>2019-05-10 21:21:59</td>\n",
       "      <td>2019-05-29 14:50:00</td>\n",
       "      <td>2019-05-29 22:30:00</td>\n",
       "      <td>VALENCIA</td>\n",
       "      <td>MADRID</td>\n",
       "      <td>REGIONAL</td>\n",
       "      <td>Adulto ida</td>\n",
       "      <td>Turista</td>\n",
       "      <td>28.35</td>\n",
       "      <td>18.73</td>\n",
       "    </tr>\n",
       "    <tr>\n",
       "      <th>4</th>\n",
       "      <td>2019-05-09 19:43:37</td>\n",
       "      <td>2019-06-26 13:25:00</td>\n",
       "      <td>2019-06-26 16:24:00</td>\n",
       "      <td>MADRID</td>\n",
       "      <td>BARCELONA</td>\n",
       "      <td>AVE-TGV</td>\n",
       "      <td>Promo</td>\n",
       "      <td>Turista</td>\n",
       "      <td>66.75</td>\n",
       "      <td>47.74</td>\n",
       "    </tr>\n",
       "  </tbody>\n",
       "</table>\n",
       "</div>"
      ],
      "text/plain": [
       "       FECHA_CONSULTA        FECHA_INICIO           FECHA_FIN CIUDAD_ORIGEN  \\\n",
       "0 2019-05-25 01:43:03 2019-06-28 20:36:00 2019-06-28 23:14:00       SEVILLA   \n",
       "1 2019-06-22 13:05:11 2019-07-14 10:00:00 2019-07-14 13:10:00     BARCELONA   \n",
       "2 2019-04-17 06:24:03 2019-05-23 13:40:00 2019-05-23 16:10:00       SEVILLA   \n",
       "3 2019-05-10 21:21:59 2019-05-29 14:50:00 2019-05-29 22:30:00      VALENCIA   \n",
       "4 2019-05-09 19:43:37 2019-06-26 13:25:00 2019-06-26 16:24:00        MADRID   \n",
       "\n",
       "  CIUDAD_DESTINO TIPO_TREN TIPO_TARIFA    CLASE  PRECIO  DAYS_TO_TRIP  \n",
       "0         MADRID     ALVIA    Flexible  Turista   67.20         34.79  \n",
       "1         MADRID       AVE    Flexible  Turista  107.70         21.87  \n",
       "2         MADRID       AVE       Promo  Turista   47.30         36.30  \n",
       "3         MADRID  REGIONAL  Adulto ida  Turista   28.35         18.73  \n",
       "4      BARCELONA   AVE-TGV       Promo  Turista   66.75         47.74  "
      ]
     },
     "execution_count": 23,
     "metadata": {},
     "output_type": "execute_result"
    }
   ],
   "source": [
    "renfe4.head()"
   ]
  },
  {
   "cell_type": "code",
   "execution_count": 24,
   "metadata": {},
   "outputs": [],
   "source": [
    "renfe4[\"JOURNEY_TIME\"]= (renfe4[\"FECHA_FIN\"]-renfe4[\"FECHA_INICIO\"])/np.timedelta64(1,'m')"
   ]
  },
  {
   "cell_type": "code",
   "execution_count": 25,
   "metadata": {},
   "outputs": [
    {
     "data": {
      "text/html": [
       "<div>\n",
       "<style scoped>\n",
       "    .dataframe tbody tr th:only-of-type {\n",
       "        vertical-align: middle;\n",
       "    }\n",
       "\n",
       "    .dataframe tbody tr th {\n",
       "        vertical-align: top;\n",
       "    }\n",
       "\n",
       "    .dataframe thead th {\n",
       "        text-align: right;\n",
       "    }\n",
       "</style>\n",
       "<table border=\"1\" class=\"dataframe\">\n",
       "  <thead>\n",
       "    <tr style=\"text-align: right;\">\n",
       "      <th></th>\n",
       "      <th>FECHA_CONSULTA</th>\n",
       "      <th>FECHA_INICIO</th>\n",
       "      <th>FECHA_FIN</th>\n",
       "      <th>CIUDAD_ORIGEN</th>\n",
       "      <th>CIUDAD_DESTINO</th>\n",
       "      <th>TIPO_TREN</th>\n",
       "      <th>TIPO_TARIFA</th>\n",
       "      <th>CLASE</th>\n",
       "      <th>PRECIO</th>\n",
       "      <th>DAYS_TO_TRIP</th>\n",
       "      <th>JOURNEY_TIME</th>\n",
       "    </tr>\n",
       "  </thead>\n",
       "  <tbody>\n",
       "    <tr>\n",
       "      <th>0</th>\n",
       "      <td>2019-05-25 01:43:03</td>\n",
       "      <td>2019-06-28 20:36:00</td>\n",
       "      <td>2019-06-28 23:14:00</td>\n",
       "      <td>SEVILLA</td>\n",
       "      <td>MADRID</td>\n",
       "      <td>ALVIA</td>\n",
       "      <td>Flexible</td>\n",
       "      <td>Turista</td>\n",
       "      <td>67.20</td>\n",
       "      <td>34.79</td>\n",
       "      <td>158.0</td>\n",
       "    </tr>\n",
       "    <tr>\n",
       "      <th>1</th>\n",
       "      <td>2019-06-22 13:05:11</td>\n",
       "      <td>2019-07-14 10:00:00</td>\n",
       "      <td>2019-07-14 13:10:00</td>\n",
       "      <td>BARCELONA</td>\n",
       "      <td>MADRID</td>\n",
       "      <td>AVE</td>\n",
       "      <td>Flexible</td>\n",
       "      <td>Turista</td>\n",
       "      <td>107.70</td>\n",
       "      <td>21.87</td>\n",
       "      <td>190.0</td>\n",
       "    </tr>\n",
       "    <tr>\n",
       "      <th>2</th>\n",
       "      <td>2019-04-17 06:24:03</td>\n",
       "      <td>2019-05-23 13:40:00</td>\n",
       "      <td>2019-05-23 16:10:00</td>\n",
       "      <td>SEVILLA</td>\n",
       "      <td>MADRID</td>\n",
       "      <td>AVE</td>\n",
       "      <td>Promo</td>\n",
       "      <td>Turista</td>\n",
       "      <td>47.30</td>\n",
       "      <td>36.30</td>\n",
       "      <td>150.0</td>\n",
       "    </tr>\n",
       "    <tr>\n",
       "      <th>3</th>\n",
       "      <td>2019-05-10 21:21:59</td>\n",
       "      <td>2019-05-29 14:50:00</td>\n",
       "      <td>2019-05-29 22:30:00</td>\n",
       "      <td>VALENCIA</td>\n",
       "      <td>MADRID</td>\n",
       "      <td>REGIONAL</td>\n",
       "      <td>Adulto ida</td>\n",
       "      <td>Turista</td>\n",
       "      <td>28.35</td>\n",
       "      <td>18.73</td>\n",
       "      <td>460.0</td>\n",
       "    </tr>\n",
       "    <tr>\n",
       "      <th>4</th>\n",
       "      <td>2019-05-09 19:43:37</td>\n",
       "      <td>2019-06-26 13:25:00</td>\n",
       "      <td>2019-06-26 16:24:00</td>\n",
       "      <td>MADRID</td>\n",
       "      <td>BARCELONA</td>\n",
       "      <td>AVE-TGV</td>\n",
       "      <td>Promo</td>\n",
       "      <td>Turista</td>\n",
       "      <td>66.75</td>\n",
       "      <td>47.74</td>\n",
       "      <td>179.0</td>\n",
       "    </tr>\n",
       "  </tbody>\n",
       "</table>\n",
       "</div>"
      ],
      "text/plain": [
       "       FECHA_CONSULTA        FECHA_INICIO           FECHA_FIN CIUDAD_ORIGEN  \\\n",
       "0 2019-05-25 01:43:03 2019-06-28 20:36:00 2019-06-28 23:14:00       SEVILLA   \n",
       "1 2019-06-22 13:05:11 2019-07-14 10:00:00 2019-07-14 13:10:00     BARCELONA   \n",
       "2 2019-04-17 06:24:03 2019-05-23 13:40:00 2019-05-23 16:10:00       SEVILLA   \n",
       "3 2019-05-10 21:21:59 2019-05-29 14:50:00 2019-05-29 22:30:00      VALENCIA   \n",
       "4 2019-05-09 19:43:37 2019-06-26 13:25:00 2019-06-26 16:24:00        MADRID   \n",
       "\n",
       "  CIUDAD_DESTINO TIPO_TREN TIPO_TARIFA    CLASE  PRECIO  DAYS_TO_TRIP  \\\n",
       "0         MADRID     ALVIA    Flexible  Turista   67.20         34.79   \n",
       "1         MADRID       AVE    Flexible  Turista  107.70         21.87   \n",
       "2         MADRID       AVE       Promo  Turista   47.30         36.30   \n",
       "3         MADRID  REGIONAL  Adulto ida  Turista   28.35         18.73   \n",
       "4      BARCELONA   AVE-TGV       Promo  Turista   66.75         47.74   \n",
       "\n",
       "   JOURNEY_TIME  \n",
       "0         158.0  \n",
       "1         190.0  \n",
       "2         150.0  \n",
       "3         460.0  \n",
       "4         179.0  "
      ]
     },
     "execution_count": 25,
     "metadata": {},
     "output_type": "execute_result"
    }
   ],
   "source": [
    "renfe4.head()"
   ]
  },
  {
   "cell_type": "markdown",
   "metadata": {},
   "source": [
    "### Now we are going to split \"FECHAS\" so to get useful information from them and deleting what is not useful"
   ]
  },
  {
   "cell_type": "code",
   "execution_count": 26,
   "metadata": {},
   "outputs": [],
   "source": [
    "for col in ['FECHA_CONSULTA', 'FECHA_INICIO', 'FECHA_FIN']:\n",
    "    renfe4[col + '_HORA'] = renfe4[col].dt.hour\n",
    "    renfe4[col + '_NOMBREDIA'] = renfe4[col].dt.day_name()\n",
    "    ##O .dt.weekday_name\n",
    "    renfe4[col + '_DIA'] = renfe4[col].dt.day\n",
    "    renfe4[col + '_MES'] = renfe4[col].dt.month\n",
    "\n",
    "    del renfe4[col]"
   ]
  },
  {
   "cell_type": "code",
   "execution_count": 27,
   "metadata": {},
   "outputs": [
    {
     "data": {
      "text/html": [
       "<div>\n",
       "<style scoped>\n",
       "    .dataframe tbody tr th:only-of-type {\n",
       "        vertical-align: middle;\n",
       "    }\n",
       "\n",
       "    .dataframe tbody tr th {\n",
       "        vertical-align: top;\n",
       "    }\n",
       "\n",
       "    .dataframe thead th {\n",
       "        text-align: right;\n",
       "    }\n",
       "</style>\n",
       "<table border=\"1\" class=\"dataframe\">\n",
       "  <thead>\n",
       "    <tr style=\"text-align: right;\">\n",
       "      <th></th>\n",
       "      <th>CIUDAD_ORIGEN</th>\n",
       "      <th>CIUDAD_DESTINO</th>\n",
       "      <th>TIPO_TREN</th>\n",
       "      <th>TIPO_TARIFA</th>\n",
       "      <th>CLASE</th>\n",
       "      <th>PRECIO</th>\n",
       "      <th>DAYS_TO_TRIP</th>\n",
       "      <th>JOURNEY_TIME</th>\n",
       "      <th>FECHA_CONSULTA_HORA</th>\n",
       "      <th>FECHA_CONSULTA_NOMBREDIA</th>\n",
       "      <th>FECHA_CONSULTA_DIA</th>\n",
       "      <th>FECHA_CONSULTA_MES</th>\n",
       "      <th>FECHA_INICIO_HORA</th>\n",
       "      <th>FECHA_INICIO_NOMBREDIA</th>\n",
       "      <th>FECHA_INICIO_DIA</th>\n",
       "      <th>FECHA_INICIO_MES</th>\n",
       "      <th>FECHA_FIN_HORA</th>\n",
       "      <th>FECHA_FIN_NOMBREDIA</th>\n",
       "      <th>FECHA_FIN_DIA</th>\n",
       "      <th>FECHA_FIN_MES</th>\n",
       "    </tr>\n",
       "  </thead>\n",
       "  <tbody>\n",
       "    <tr>\n",
       "      <th>0</th>\n",
       "      <td>SEVILLA</td>\n",
       "      <td>MADRID</td>\n",
       "      <td>ALVIA</td>\n",
       "      <td>Flexible</td>\n",
       "      <td>Turista</td>\n",
       "      <td>67.20</td>\n",
       "      <td>34.79</td>\n",
       "      <td>158.0</td>\n",
       "      <td>1</td>\n",
       "      <td>Saturday</td>\n",
       "      <td>25</td>\n",
       "      <td>5</td>\n",
       "      <td>20</td>\n",
       "      <td>Friday</td>\n",
       "      <td>28</td>\n",
       "      <td>6</td>\n",
       "      <td>23</td>\n",
       "      <td>Friday</td>\n",
       "      <td>28</td>\n",
       "      <td>6</td>\n",
       "    </tr>\n",
       "    <tr>\n",
       "      <th>1</th>\n",
       "      <td>BARCELONA</td>\n",
       "      <td>MADRID</td>\n",
       "      <td>AVE</td>\n",
       "      <td>Flexible</td>\n",
       "      <td>Turista</td>\n",
       "      <td>107.70</td>\n",
       "      <td>21.87</td>\n",
       "      <td>190.0</td>\n",
       "      <td>13</td>\n",
       "      <td>Saturday</td>\n",
       "      <td>22</td>\n",
       "      <td>6</td>\n",
       "      <td>10</td>\n",
       "      <td>Sunday</td>\n",
       "      <td>14</td>\n",
       "      <td>7</td>\n",
       "      <td>13</td>\n",
       "      <td>Sunday</td>\n",
       "      <td>14</td>\n",
       "      <td>7</td>\n",
       "    </tr>\n",
       "    <tr>\n",
       "      <th>2</th>\n",
       "      <td>SEVILLA</td>\n",
       "      <td>MADRID</td>\n",
       "      <td>AVE</td>\n",
       "      <td>Promo</td>\n",
       "      <td>Turista</td>\n",
       "      <td>47.30</td>\n",
       "      <td>36.30</td>\n",
       "      <td>150.0</td>\n",
       "      <td>6</td>\n",
       "      <td>Wednesday</td>\n",
       "      <td>17</td>\n",
       "      <td>4</td>\n",
       "      <td>13</td>\n",
       "      <td>Thursday</td>\n",
       "      <td>23</td>\n",
       "      <td>5</td>\n",
       "      <td>16</td>\n",
       "      <td>Thursday</td>\n",
       "      <td>23</td>\n",
       "      <td>5</td>\n",
       "    </tr>\n",
       "    <tr>\n",
       "      <th>3</th>\n",
       "      <td>VALENCIA</td>\n",
       "      <td>MADRID</td>\n",
       "      <td>REGIONAL</td>\n",
       "      <td>Adulto ida</td>\n",
       "      <td>Turista</td>\n",
       "      <td>28.35</td>\n",
       "      <td>18.73</td>\n",
       "      <td>460.0</td>\n",
       "      <td>21</td>\n",
       "      <td>Friday</td>\n",
       "      <td>10</td>\n",
       "      <td>5</td>\n",
       "      <td>14</td>\n",
       "      <td>Wednesday</td>\n",
       "      <td>29</td>\n",
       "      <td>5</td>\n",
       "      <td>22</td>\n",
       "      <td>Wednesday</td>\n",
       "      <td>29</td>\n",
       "      <td>5</td>\n",
       "    </tr>\n",
       "    <tr>\n",
       "      <th>4</th>\n",
       "      <td>MADRID</td>\n",
       "      <td>BARCELONA</td>\n",
       "      <td>AVE-TGV</td>\n",
       "      <td>Promo</td>\n",
       "      <td>Turista</td>\n",
       "      <td>66.75</td>\n",
       "      <td>47.74</td>\n",
       "      <td>179.0</td>\n",
       "      <td>19</td>\n",
       "      <td>Thursday</td>\n",
       "      <td>9</td>\n",
       "      <td>5</td>\n",
       "      <td>13</td>\n",
       "      <td>Wednesday</td>\n",
       "      <td>26</td>\n",
       "      <td>6</td>\n",
       "      <td>16</td>\n",
       "      <td>Wednesday</td>\n",
       "      <td>26</td>\n",
       "      <td>6</td>\n",
       "    </tr>\n",
       "  </tbody>\n",
       "</table>\n",
       "</div>"
      ],
      "text/plain": [
       "  CIUDAD_ORIGEN CIUDAD_DESTINO TIPO_TREN TIPO_TARIFA    CLASE  PRECIO  \\\n",
       "0       SEVILLA         MADRID     ALVIA    Flexible  Turista   67.20   \n",
       "1     BARCELONA         MADRID       AVE    Flexible  Turista  107.70   \n",
       "2       SEVILLA         MADRID       AVE       Promo  Turista   47.30   \n",
       "3      VALENCIA         MADRID  REGIONAL  Adulto ida  Turista   28.35   \n",
       "4        MADRID      BARCELONA   AVE-TGV       Promo  Turista   66.75   \n",
       "\n",
       "   DAYS_TO_TRIP  JOURNEY_TIME  FECHA_CONSULTA_HORA FECHA_CONSULTA_NOMBREDIA  \\\n",
       "0         34.79         158.0                    1                 Saturday   \n",
       "1         21.87         190.0                   13                 Saturday   \n",
       "2         36.30         150.0                    6                Wednesday   \n",
       "3         18.73         460.0                   21                   Friday   \n",
       "4         47.74         179.0                   19                 Thursday   \n",
       "\n",
       "   FECHA_CONSULTA_DIA  FECHA_CONSULTA_MES  FECHA_INICIO_HORA  \\\n",
       "0                  25                   5                 20   \n",
       "1                  22                   6                 10   \n",
       "2                  17                   4                 13   \n",
       "3                  10                   5                 14   \n",
       "4                   9                   5                 13   \n",
       "\n",
       "  FECHA_INICIO_NOMBREDIA  FECHA_INICIO_DIA  FECHA_INICIO_MES  FECHA_FIN_HORA  \\\n",
       "0                 Friday                28                 6              23   \n",
       "1                 Sunday                14                 7              13   \n",
       "2               Thursday                23                 5              16   \n",
       "3              Wednesday                29                 5              22   \n",
       "4              Wednesday                26                 6              16   \n",
       "\n",
       "  FECHA_FIN_NOMBREDIA  FECHA_FIN_DIA  FECHA_FIN_MES  \n",
       "0              Friday             28              6  \n",
       "1              Sunday             14              7  \n",
       "2            Thursday             23              5  \n",
       "3           Wednesday             29              5  \n",
       "4           Wednesday             26              6  "
      ]
     },
     "execution_count": 27,
     "metadata": {},
     "output_type": "execute_result"
    }
   ],
   "source": [
    "renfe4.head()"
   ]
  },
  {
   "cell_type": "code",
   "execution_count": 28,
   "metadata": {},
   "outputs": [],
   "source": [
    "renfe5 = renfe4.copy()"
   ]
  },
  {
   "cell_type": "code",
   "execution_count": 29,
   "metadata": {},
   "outputs": [],
   "source": [
    "renfe5[\"FECHA_INICIO_MES\"].unique()\n",
    "#We realize we don´t have any data about all months , so will delete any data related to months. Also day of the month, as every year can change along the weeks.\n",
    "renfe5.drop(columns=[\"FECHA_INICIO_DIA\",\"FECHA_CONSULTA_DIA\",\"FECHA_CONSULTA_MES\",\"FECHA_INICIO_MES\", \"FECHA_FIN_DIA\", \"FECHA_FIN_MES\"],inplace=True)\t"
   ]
  },
  {
   "cell_type": "code",
   "execution_count": 30,
   "metadata": {},
   "outputs": [
    {
     "data": {
      "text/html": [
       "<div>\n",
       "<style scoped>\n",
       "    .dataframe tbody tr th:only-of-type {\n",
       "        vertical-align: middle;\n",
       "    }\n",
       "\n",
       "    .dataframe tbody tr th {\n",
       "        vertical-align: top;\n",
       "    }\n",
       "\n",
       "    .dataframe thead th {\n",
       "        text-align: right;\n",
       "    }\n",
       "</style>\n",
       "<table border=\"1\" class=\"dataframe\">\n",
       "  <thead>\n",
       "    <tr style=\"text-align: right;\">\n",
       "      <th></th>\n",
       "      <th>CIUDAD_ORIGEN</th>\n",
       "      <th>CIUDAD_DESTINO</th>\n",
       "      <th>TIPO_TREN</th>\n",
       "      <th>TIPO_TARIFA</th>\n",
       "      <th>CLASE</th>\n",
       "      <th>PRECIO</th>\n",
       "      <th>DAYS_TO_TRIP</th>\n",
       "      <th>JOURNEY_TIME</th>\n",
       "      <th>FECHA_CONSULTA_HORA</th>\n",
       "      <th>FECHA_CONSULTA_NOMBREDIA</th>\n",
       "      <th>FECHA_INICIO_HORA</th>\n",
       "      <th>FECHA_INICIO_NOMBREDIA</th>\n",
       "      <th>FECHA_FIN_HORA</th>\n",
       "      <th>FECHA_FIN_NOMBREDIA</th>\n",
       "    </tr>\n",
       "  </thead>\n",
       "  <tbody>\n",
       "    <tr>\n",
       "      <th>0</th>\n",
       "      <td>SEVILLA</td>\n",
       "      <td>MADRID</td>\n",
       "      <td>ALVIA</td>\n",
       "      <td>Flexible</td>\n",
       "      <td>Turista</td>\n",
       "      <td>67.20</td>\n",
       "      <td>34.79</td>\n",
       "      <td>158.0</td>\n",
       "      <td>1</td>\n",
       "      <td>Saturday</td>\n",
       "      <td>20</td>\n",
       "      <td>Friday</td>\n",
       "      <td>23</td>\n",
       "      <td>Friday</td>\n",
       "    </tr>\n",
       "    <tr>\n",
       "      <th>1</th>\n",
       "      <td>BARCELONA</td>\n",
       "      <td>MADRID</td>\n",
       "      <td>AVE</td>\n",
       "      <td>Flexible</td>\n",
       "      <td>Turista</td>\n",
       "      <td>107.70</td>\n",
       "      <td>21.87</td>\n",
       "      <td>190.0</td>\n",
       "      <td>13</td>\n",
       "      <td>Saturday</td>\n",
       "      <td>10</td>\n",
       "      <td>Sunday</td>\n",
       "      <td>13</td>\n",
       "      <td>Sunday</td>\n",
       "    </tr>\n",
       "    <tr>\n",
       "      <th>2</th>\n",
       "      <td>SEVILLA</td>\n",
       "      <td>MADRID</td>\n",
       "      <td>AVE</td>\n",
       "      <td>Promo</td>\n",
       "      <td>Turista</td>\n",
       "      <td>47.30</td>\n",
       "      <td>36.30</td>\n",
       "      <td>150.0</td>\n",
       "      <td>6</td>\n",
       "      <td>Wednesday</td>\n",
       "      <td>13</td>\n",
       "      <td>Thursday</td>\n",
       "      <td>16</td>\n",
       "      <td>Thursday</td>\n",
       "    </tr>\n",
       "    <tr>\n",
       "      <th>3</th>\n",
       "      <td>VALENCIA</td>\n",
       "      <td>MADRID</td>\n",
       "      <td>REGIONAL</td>\n",
       "      <td>Adulto ida</td>\n",
       "      <td>Turista</td>\n",
       "      <td>28.35</td>\n",
       "      <td>18.73</td>\n",
       "      <td>460.0</td>\n",
       "      <td>21</td>\n",
       "      <td>Friday</td>\n",
       "      <td>14</td>\n",
       "      <td>Wednesday</td>\n",
       "      <td>22</td>\n",
       "      <td>Wednesday</td>\n",
       "    </tr>\n",
       "    <tr>\n",
       "      <th>4</th>\n",
       "      <td>MADRID</td>\n",
       "      <td>BARCELONA</td>\n",
       "      <td>AVE-TGV</td>\n",
       "      <td>Promo</td>\n",
       "      <td>Turista</td>\n",
       "      <td>66.75</td>\n",
       "      <td>47.74</td>\n",
       "      <td>179.0</td>\n",
       "      <td>19</td>\n",
       "      <td>Thursday</td>\n",
       "      <td>13</td>\n",
       "      <td>Wednesday</td>\n",
       "      <td>16</td>\n",
       "      <td>Wednesday</td>\n",
       "    </tr>\n",
       "  </tbody>\n",
       "</table>\n",
       "</div>"
      ],
      "text/plain": [
       "  CIUDAD_ORIGEN CIUDAD_DESTINO TIPO_TREN TIPO_TARIFA    CLASE  PRECIO  \\\n",
       "0       SEVILLA         MADRID     ALVIA    Flexible  Turista   67.20   \n",
       "1     BARCELONA         MADRID       AVE    Flexible  Turista  107.70   \n",
       "2       SEVILLA         MADRID       AVE       Promo  Turista   47.30   \n",
       "3      VALENCIA         MADRID  REGIONAL  Adulto ida  Turista   28.35   \n",
       "4        MADRID      BARCELONA   AVE-TGV       Promo  Turista   66.75   \n",
       "\n",
       "   DAYS_TO_TRIP  JOURNEY_TIME  FECHA_CONSULTA_HORA FECHA_CONSULTA_NOMBREDIA  \\\n",
       "0         34.79         158.0                    1                 Saturday   \n",
       "1         21.87         190.0                   13                 Saturday   \n",
       "2         36.30         150.0                    6                Wednesday   \n",
       "3         18.73         460.0                   21                   Friday   \n",
       "4         47.74         179.0                   19                 Thursday   \n",
       "\n",
       "   FECHA_INICIO_HORA FECHA_INICIO_NOMBREDIA  FECHA_FIN_HORA  \\\n",
       "0                 20                 Friday              23   \n",
       "1                 10                 Sunday              13   \n",
       "2                 13               Thursday              16   \n",
       "3                 14              Wednesday              22   \n",
       "4                 13              Wednesday              16   \n",
       "\n",
       "  FECHA_FIN_NOMBREDIA  \n",
       "0              Friday  \n",
       "1              Sunday  \n",
       "2            Thursday  \n",
       "3           Wednesday  \n",
       "4           Wednesday  "
      ]
     },
     "execution_count": 30,
     "metadata": {},
     "output_type": "execute_result"
    }
   ],
   "source": [
    "renfe5.head(5)"
   ]
  },
  {
   "cell_type": "markdown",
   "metadata": {},
   "source": [
    "### Create TRIP column\n",
    "### after that we delete \"CIUDAD_ORIGEN\" and \"CIUDAD_DESTINO\""
   ]
  },
  {
   "cell_type": "code",
   "execution_count": 31,
   "metadata": {},
   "outputs": [],
   "source": [
    "renfe5[\"TRIP\"]=renfe5['CIUDAD_ORIGEN']+\" - \" + renfe5[\"CIUDAD_DESTINO\"]"
   ]
  },
  {
   "cell_type": "code",
   "execution_count": 32,
   "metadata": {},
   "outputs": [],
   "source": [
    "del(renfe5[\"CIUDAD_ORIGEN\"])\n",
    "del(renfe5[\"CIUDAD_DESTINO\"])"
   ]
  },
  {
   "cell_type": "code",
   "execution_count": 33,
   "metadata": {},
   "outputs": [
    {
     "data": {
      "text/plain": [
       "TIPO_TREN\n",
       "AVE              63.852992\n",
       "sin_tipo_tren     9.983156\n",
       "ALVIA             5.363802\n",
       "REGIONAL          4.673153\n",
       "INTERCITY         4.628086\n",
       "AV City           2.595288\n",
       "MD-LD             1.909427\n",
       "AVE-TGV           1.255112\n",
       "R. EXPRES         1.163570\n",
       "TRENHOTEL         1.067240\n",
       "LD                1.027806\n",
       "AVE-LD            0.804725\n",
       "AVE-MD            0.662201\n",
       "LD-MD             0.660793\n",
       "MD-AVE            0.214913\n",
       "MD                0.137736\n",
       "Name: proportion, dtype: float64"
      ]
     },
     "execution_count": 33,
     "metadata": {},
     "output_type": "execute_result"
    }
   ],
   "source": [
    "renfe5[\"TIPO_TREN\"].value_counts(normalize=True)*100"
   ]
  },
  {
   "cell_type": "code",
   "execution_count": 34,
   "metadata": {},
   "outputs": [],
   "source": [
    "corr = renfe5.corr(numeric_only=True)"
   ]
  },
  {
   "cell_type": "code",
   "execution_count": 35,
   "metadata": {},
   "outputs": [
    {
     "data": {
      "text/html": [
       "<style type=\"text/css\">\n",
       "#T_a270a_row0_col0, #T_a270a_row1_col1, #T_a270a_row2_col2, #T_a270a_row3_col3, #T_a270a_row4_col4, #T_a270a_row5_col5 {\n",
       "  background-color: #b40426;\n",
       "  color: #f1f1f1;\n",
       "}\n",
       "#T_a270a_row0_col1, #T_a270a_row0_col2, #T_a270a_row0_col5, #T_a270a_row1_col0, #T_a270a_row2_col3, #T_a270a_row2_col4, #T_a270a_row4_col3, #T_a270a_row5_col3 {\n",
       "  background-color: #3b4cc0;\n",
       "  color: #f1f1f1;\n",
       "}\n",
       "#T_a270a_row0_col3, #T_a270a_row2_col0 {\n",
       "  background-color: #3c4ec2;\n",
       "  color: #f1f1f1;\n",
       "}\n",
       "#T_a270a_row0_col4, #T_a270a_row3_col0, #T_a270a_row4_col1 {\n",
       "  background-color: #7a9df8;\n",
       "  color: #f1f1f1;\n",
       "}\n",
       "#T_a270a_row1_col2 {\n",
       "  background-color: #7da0f9;\n",
       "  color: #f1f1f1;\n",
       "}\n",
       "#T_a270a_row1_col3, #T_a270a_row3_col5 {\n",
       "  background-color: #3d50c3;\n",
       "  color: #f1f1f1;\n",
       "}\n",
       "#T_a270a_row1_col4 {\n",
       "  background-color: #6c8ff1;\n",
       "  color: #f1f1f1;\n",
       "}\n",
       "#T_a270a_row1_col5 {\n",
       "  background-color: #4055c8;\n",
       "  color: #f1f1f1;\n",
       "}\n",
       "#T_a270a_row2_col1 {\n",
       "  background-color: #7ea1fa;\n",
       "  color: #f1f1f1;\n",
       "}\n",
       "#T_a270a_row2_col5 {\n",
       "  background-color: #5b7ae5;\n",
       "  color: #f1f1f1;\n",
       "}\n",
       "#T_a270a_row3_col1, #T_a270a_row5_col1 {\n",
       "  background-color: #7b9ff9;\n",
       "  color: #f1f1f1;\n",
       "}\n",
       "#T_a270a_row3_col2 {\n",
       "  background-color: #779af7;\n",
       "  color: #f1f1f1;\n",
       "}\n",
       "#T_a270a_row3_col4 {\n",
       "  background-color: #6b8df0;\n",
       "  color: #f1f1f1;\n",
       "}\n",
       "#T_a270a_row4_col0 {\n",
       "  background-color: #88abfd;\n",
       "  color: #000000;\n",
       "}\n",
       "#T_a270a_row4_col2 {\n",
       "  background-color: #485fd1;\n",
       "  color: #f1f1f1;\n",
       "}\n",
       "#T_a270a_row4_col5 {\n",
       "  background-color: #f6a586;\n",
       "  color: #000000;\n",
       "}\n",
       "#T_a270a_row5_col0 {\n",
       "  background-color: #7699f6;\n",
       "  color: #f1f1f1;\n",
       "}\n",
       "#T_a270a_row5_col2 {\n",
       "  background-color: #94b6ff;\n",
       "  color: #000000;\n",
       "}\n",
       "#T_a270a_row5_col4 {\n",
       "  background-color: #f39577;\n",
       "  color: #000000;\n",
       "}\n",
       "</style>\n",
       "<table id=\"T_a270a\">\n",
       "  <thead>\n",
       "    <tr>\n",
       "      <th class=\"blank level0\" >&nbsp;</th>\n",
       "      <th id=\"T_a270a_level0_col0\" class=\"col_heading level0 col0\" >PRECIO</th>\n",
       "      <th id=\"T_a270a_level0_col1\" class=\"col_heading level0 col1\" >DAYS_TO_TRIP</th>\n",
       "      <th id=\"T_a270a_level0_col2\" class=\"col_heading level0 col2\" >JOURNEY_TIME</th>\n",
       "      <th id=\"T_a270a_level0_col3\" class=\"col_heading level0 col3\" >FECHA_CONSULTA_HORA</th>\n",
       "      <th id=\"T_a270a_level0_col4\" class=\"col_heading level0 col4\" >FECHA_INICIO_HORA</th>\n",
       "      <th id=\"T_a270a_level0_col5\" class=\"col_heading level0 col5\" >FECHA_FIN_HORA</th>\n",
       "    </tr>\n",
       "  </thead>\n",
       "  <tbody>\n",
       "    <tr>\n",
       "      <th id=\"T_a270a_level0_row0\" class=\"row_heading level0 row0\" >PRECIO</th>\n",
       "      <td id=\"T_a270a_row0_col0\" class=\"data row0 col0\" >1.000000</td>\n",
       "      <td id=\"T_a270a_row0_col1\" class=\"data row0 col1\" >-0.242405</td>\n",
       "      <td id=\"T_a270a_row0_col2\" class=\"data row0 col2\" >-0.236060</td>\n",
       "      <td id=\"T_a270a_row0_col3\" class=\"data row0 col3\" >0.002314</td>\n",
       "      <td id=\"T_a270a_row0_col4\" class=\"data row0 col4\" >0.050395</td>\n",
       "      <td id=\"T_a270a_row0_col5\" class=\"data row0 col5\" >-0.011569</td>\n",
       "    </tr>\n",
       "    <tr>\n",
       "      <th id=\"T_a270a_level0_row1\" class=\"row_heading level0 row1\" >DAYS_TO_TRIP</th>\n",
       "      <td id=\"T_a270a_row1_col0\" class=\"data row1 col0\" >-0.242405</td>\n",
       "      <td id=\"T_a270a_row1_col1\" class=\"data row1 col1\" >1.000000</td>\n",
       "      <td id=\"T_a270a_row1_col2\" class=\"data row1 col2\" >0.018050</td>\n",
       "      <td id=\"T_a270a_row1_col3\" class=\"data row1 col3\" >0.006974</td>\n",
       "      <td id=\"T_a270a_row1_col4\" class=\"data row1 col4\" >0.003638</td>\n",
       "      <td id=\"T_a270a_row1_col5\" class=\"data row1 col5\" >0.008626</td>\n",
       "    </tr>\n",
       "    <tr>\n",
       "      <th id=\"T_a270a_level0_row2\" class=\"row_heading level0 row2\" >JOURNEY_TIME</th>\n",
       "      <td id=\"T_a270a_row2_col0\" class=\"data row2 col0\" >-0.236060</td>\n",
       "      <td id=\"T_a270a_row2_col1\" class=\"data row2 col1\" >0.018050</td>\n",
       "      <td id=\"T_a270a_row2_col2\" class=\"data row2 col2\" >1.000000</td>\n",
       "      <td id=\"T_a270a_row2_col3\" class=\"data row2 col3\" >-0.003731</td>\n",
       "      <td id=\"T_a270a_row2_col4\" class=\"data row2 col4\" >-0.182679</td>\n",
       "      <td id=\"T_a270a_row2_col5\" class=\"data row2 col5\" >0.098024</td>\n",
       "    </tr>\n",
       "    <tr>\n",
       "      <th id=\"T_a270a_level0_row3\" class=\"row_heading level0 row3\" >FECHA_CONSULTA_HORA</th>\n",
       "      <td id=\"T_a270a_row3_col0\" class=\"data row3 col0\" >0.002314</td>\n",
       "      <td id=\"T_a270a_row3_col1\" class=\"data row3 col1\" >0.006974</td>\n",
       "      <td id=\"T_a270a_row3_col2\" class=\"data row3 col2\" >-0.003731</td>\n",
       "      <td id=\"T_a270a_row3_col3\" class=\"data row3 col3\" >1.000000</td>\n",
       "      <td id=\"T_a270a_row3_col4\" class=\"data row3 col4\" >0.000124</td>\n",
       "      <td id=\"T_a270a_row3_col5\" class=\"data row3 col5\" >-0.001540</td>\n",
       "    </tr>\n",
       "    <tr>\n",
       "      <th id=\"T_a270a_level0_row4\" class=\"row_heading level0 row4\" >FECHA_INICIO_HORA</th>\n",
       "      <td id=\"T_a270a_row4_col0\" class=\"data row4 col0\" >0.050395</td>\n",
       "      <td id=\"T_a270a_row4_col1\" class=\"data row4 col1\" >0.003638</td>\n",
       "      <td id=\"T_a270a_row4_col2\" class=\"data row4 col2\" >-0.182679</td>\n",
       "      <td id=\"T_a270a_row4_col3\" class=\"data row4 col3\" >0.000124</td>\n",
       "      <td id=\"T_a270a_row4_col4\" class=\"data row4 col4\" >1.000000</td>\n",
       "      <td id=\"T_a270a_row4_col5\" class=\"data row4 col5\" >0.715664</td>\n",
       "    </tr>\n",
       "    <tr>\n",
       "      <th id=\"T_a270a_level0_row5\" class=\"row_heading level0 row5\" >FECHA_FIN_HORA</th>\n",
       "      <td id=\"T_a270a_row5_col0\" class=\"data row5 col0\" >-0.011569</td>\n",
       "      <td id=\"T_a270a_row5_col1\" class=\"data row5 col1\" >0.008626</td>\n",
       "      <td id=\"T_a270a_row5_col2\" class=\"data row5 col2\" >0.098024</td>\n",
       "      <td id=\"T_a270a_row5_col3\" class=\"data row5 col3\" >-0.001540</td>\n",
       "      <td id=\"T_a270a_row5_col4\" class=\"data row5 col4\" >0.715664</td>\n",
       "      <td id=\"T_a270a_row5_col5\" class=\"data row5 col5\" >1.000000</td>\n",
       "    </tr>\n",
       "  </tbody>\n",
       "</table>\n"
      ],
      "text/plain": [
       "<pandas.io.formats.style.Styler at 0x2101854ba90>"
      ]
     },
     "execution_count": 35,
     "metadata": {},
     "output_type": "execute_result"
    }
   ],
   "source": [
    "corr.style.background_gradient(cmap=\"coolwarm\")"
   ]
  },
  {
   "cell_type": "code",
   "execution_count": 36,
   "metadata": {},
   "outputs": [],
   "source": [
    "renfe6 = renfe5.copy()"
   ]
  },
  {
   "cell_type": "code",
   "execution_count": 37,
   "metadata": {},
   "outputs": [],
   "source": [
    "#For separated for types\n",
    "target= [\"PRECIO\"]\n",
    "def get_list_variables(dataset):\n",
    "    l_num=[]\n",
    "    l_bool=[]\n",
    "    l_cat=[]\n",
    "    for i in dataset:\n",
    "        if    (dataset[i].dtype.kind==\"f\" or dataset[i].dtype.kind==\"i\") and len(dataset[i].unique())!= 2  and i not in target:\n",
    "              l_num.append(i)\n",
    "        elif  (dataset[i].dtype.kind==\"f\" or dataset[i].dtype.kind==\"i\")  and len(dataset[i].unique())== 2  and i not in target:\n",
    "              l_bool.append(i)\n",
    "        elif  (dataset[i].dtype.kind==\"O\")  and i not in target:\n",
    "              l_cat.append(i)\n",
    "\n",
    "    return l_num, l_bool, l_cat"
   ]
  },
  {
   "cell_type": "code",
   "execution_count": 38,
   "metadata": {},
   "outputs": [],
   "source": [
    "l_num, l_bool, l_cat = get_list_variables(renfe6)"
   ]
  },
  {
   "cell_type": "code",
   "execution_count": 39,
   "metadata": {},
   "outputs": [
    {
     "data": {
      "text/plain": [
       "['DAYS_TO_TRIP',\n",
       " 'JOURNEY_TIME',\n",
       " 'FECHA_CONSULTA_HORA',\n",
       " 'FECHA_INICIO_HORA',\n",
       " 'FECHA_FIN_HORA']"
      ]
     },
     "execution_count": 39,
     "metadata": {},
     "output_type": "execute_result"
    }
   ],
   "source": [
    "l_num"
   ]
  },
  {
   "cell_type": "code",
   "execution_count": 40,
   "metadata": {},
   "outputs": [],
   "source": [
    "#l_num\n",
    "list_to_delete = ['FECHA_CONSULTA_HORA','FECHA_INICIO_HORA', 'FECHA_FIN_HORA']\n",
    "for i in list_to_delete:\n",
    "    del(renfe6[i])"
   ]
  },
  {
   "cell_type": "code",
   "execution_count": 41,
   "metadata": {},
   "outputs": [],
   "source": [
    "l_num, l_bool, l_cat =get_list_variables(renfe6)"
   ]
  },
  {
   "cell_type": "code",
   "execution_count": 42,
   "metadata": {},
   "outputs": [
    {
     "data": {
      "image/png": "[encoded data removed]",
      "text/plain": [
       "<Figure size 640x480 with 1 Axes>"
      ]
     },
     "metadata": {},
     "output_type": "display_data"
    },
    {
     "data": {
      "image/png": "[encoded data removed]",
      "text/plain": [
       "<Figure size 640x480 with 1 Axes>"
      ]
     },
     "metadata": {},
     "output_type": "display_data"
    }
   ],
   "source": [
    "for i in l_num:\n",
    "    renfe6.hist(i)"
   ]
  },
  {
   "cell_type": "code",
   "execution_count": 43,
   "metadata": {},
   "outputs": [
    {
     "data": {
      "text/plain": [
       "['TIPO_TREN',\n",
       " 'TIPO_TARIFA',\n",
       " 'CLASE',\n",
       " 'FECHA_CONSULTA_NOMBREDIA',\n",
       " 'FECHA_INICIO_NOMBREDIA',\n",
       " 'FECHA_FIN_NOMBREDIA',\n",
       " 'TRIP']"
      ]
     },
     "execution_count": 43,
     "metadata": {},
     "output_type": "execute_result"
    }
   ],
   "source": [
    "l_cat"
   ]
  },
  {
   "cell_type": "code",
   "execution_count": 44,
   "metadata": {},
   "outputs": [
    {
     "data": {
      "image/png": "[encoded data removed]",
      "text/plain": [
       "<Figure size 500x500 with 1 Axes>"
      ]
     },
     "metadata": {},
     "output_type": "display_data"
    },
    {
     "data": {
      "image/png": "[encoded data removed]",
      "text/plain": [
       "<Figure size 500x500 with 1 Axes>"
      ]
     },
     "metadata": {},
     "output_type": "display_data"
    },
    {
     "data": {
      "image/png": "[encoded data removed]",
      "text/plain": [
       "<Figure size 500x500 with 1 Axes>"
      ]
     },
     "metadata": {},
     "output_type": "display_data"
    },
    {
     "data": {
      "image/png": "[encoded data removed]",
      "text/plain": [
       "<Figure size 500x500 with 1 Axes>"
      ]
     },
     "metadata": {},
     "output_type": "display_data"
    },
    {
     "data": {
      "image/png": "[encoded data removed]",
      "text/plain": [
       "<Figure size 500x500 with 1 Axes>"
      ]
     },
     "metadata": {},
     "output_type": "display_data"
    },
    {
     "data": {
      "image/png": "[encoded data removed]",
      "text/plain": [
       "<Figure size 500x500 with 1 Axes>"
      ]
     },
     "metadata": {},
     "output_type": "display_data"
    },
    {
     "data": {
      "image/png": "[encoded data removed]",
      "text/plain": [
       "<Figure size 500x500 with 1 Axes>"
      ]
     },
     "metadata": {},
     "output_type": "display_data"
    }
   ],
   "source": [
    "for i in l_cat:\n",
    "    sns.relplot(data=renfe6, x=i, y=\"PRECIO\")"
   ]
  },
  {
   "cell_type": "code",
   "execution_count": 45,
   "metadata": {},
   "outputs": [],
   "source": [
    "list_to_delete2 = ['FECHA_CONSULTA_NOMBREDIA','FECHA_INICIO_NOMBREDIA', 'FECHA_FIN_NOMBREDIA']\n",
    "for i in list_to_delete2:\n",
    "    del(renfe6[i])"
   ]
  },
  {
   "cell_type": "code",
   "execution_count": 46,
   "metadata": {},
   "outputs": [
    {
     "name": "stdout",
     "output_type": "stream",
     "text": [
      "<class 'pandas.core.frame.DataFrame'>\n",
      "RangeIndex: 355028 entries, 0 to 355027\n",
      "Data columns (total 7 columns):\n",
      " #   Column        Non-Null Count   Dtype  \n",
      "---  ------        --------------   -----  \n",
      " 0   TIPO_TREN     355028 non-null  object \n",
      " 1   TIPO_TARIFA   355028 non-null  object \n",
      " 2   CLASE         355028 non-null  object \n",
      " 3   PRECIO        355028 non-null  float64\n",
      " 4   DAYS_TO_TRIP  355028 non-null  float64\n",
      " 5   JOURNEY_TIME  355028 non-null  float64\n",
      " 6   TRIP          355028 non-null  object \n",
      "dtypes: float64(3), object(4)\n",
      "memory usage: 19.0+ MB\n"
     ]
    }
   ],
   "source": [
    "renfe6.info()"
   ]
  },
  {
   "cell_type": "code",
   "execution_count": 86,
   "metadata": {},
   "outputs": [],
   "source": [
    "renfe7 = renfe6.copy()"
   ]
  },
  {
   "cell_type": "code",
   "execution_count": 87,
   "metadata": {},
   "outputs": [
    {
     "data": {
      "text/html": [
       "<div>\n",
       "<style scoped>\n",
       "    .dataframe tbody tr th:only-of-type {\n",
       "        vertical-align: middle;\n",
       "    }\n",
       "\n",
       "    .dataframe tbody tr th {\n",
       "        vertical-align: top;\n",
       "    }\n",
       "\n",
       "    .dataframe thead th {\n",
       "        text-align: right;\n",
       "    }\n",
       "</style>\n",
       "<table border=\"1\" class=\"dataframe\">\n",
       "  <thead>\n",
       "    <tr style=\"text-align: right;\">\n",
       "      <th></th>\n",
       "      <th>CLASE</th>\n",
       "      <th>count</th>\n",
       "    </tr>\n",
       "  </thead>\n",
       "  <tbody>\n",
       "    <tr>\n",
       "      <th>0</th>\n",
       "      <td>Turista</td>\n",
       "      <td>243860</td>\n",
       "    </tr>\n",
       "    <tr>\n",
       "      <th>1</th>\n",
       "      <td>sin_clase</td>\n",
       "      <td>35554</td>\n",
       "    </tr>\n",
       "    <tr>\n",
       "      <th>2</th>\n",
       "      <td>Preferente</td>\n",
       "      <td>30713</td>\n",
       "    </tr>\n",
       "    <tr>\n",
       "      <th>3</th>\n",
       "      <td>Turista Plus</td>\n",
       "      <td>23320</td>\n",
       "    </tr>\n",
       "    <tr>\n",
       "      <th>4</th>\n",
       "      <td>Turista con enlace</td>\n",
       "      <td>19114</td>\n",
       "    </tr>\n",
       "    <tr>\n",
       "      <th>5</th>\n",
       "      <td>TuristaSólo plaza H</td>\n",
       "      <td>1951</td>\n",
       "    </tr>\n",
       "    <tr>\n",
       "      <th>6</th>\n",
       "      <td>PreferenteSólo plaza H</td>\n",
       "      <td>259</td>\n",
       "    </tr>\n",
       "    <tr>\n",
       "      <th>7</th>\n",
       "      <td>Cama Turista</td>\n",
       "      <td>240</td>\n",
       "    </tr>\n",
       "    <tr>\n",
       "      <th>8</th>\n",
       "      <td>Cama G. Clase</td>\n",
       "      <td>15</td>\n",
       "    </tr>\n",
       "    <tr>\n",
       "      <th>9</th>\n",
       "      <td>Turista PlusSólo plaza H</td>\n",
       "      <td>2</td>\n",
       "    </tr>\n",
       "  </tbody>\n",
       "</table>\n",
       "</div>"
      ],
      "text/plain": [
       "                      CLASE   count\n",
       "0                   Turista  243860\n",
       "1                 sin_clase   35554\n",
       "2                Preferente   30713\n",
       "3              Turista Plus   23320\n",
       "4        Turista con enlace   19114\n",
       "5       TuristaSólo plaza H    1951\n",
       "6    PreferenteSólo plaza H     259\n",
       "7              Cama Turista     240\n",
       "8             Cama G. Clase      15\n",
       "9  Turista PlusSólo plaza H       2"
      ]
     },
     "execution_count": 87,
     "metadata": {},
     "output_type": "execute_result"
    }
   ],
   "source": [
    "modelo = renfe6['CLASE'].value_counts().reset_index()\n",
    "modelo"
   ]
  },
  {
   "cell_type": "code",
   "execution_count": 88,
   "metadata": {},
   "outputs": [],
   "source": [
    "def get_list_minor_one_percent(dataset, column, umbral):\n",
    "    list_for_delete = []\n",
    "    tabla = dataset[column].value_counts().reset_index()\n",
    "    for i in range(0, len(tabla)):\n",
    "        if(tabla.iloc[i]['count']<umbral):\n",
    "            list_for_delete.append(tabla.iloc[i,0])\n",
    "    return list_for_delete\n",
    "    "
   ]
  },
  {
   "cell_type": "code",
   "execution_count": 89,
   "metadata": {},
   "outputs": [],
   "source": [
    "def delete_list_df(dataset, column, lista_eliminar):\n",
    "    dataset.drop(dataset[dataset[column].isin(lista_eliminar)].index, inplace=True)"
   ]
  },
  {
   "cell_type": "code",
   "execution_count": 90,
   "metadata": {},
   "outputs": [
    {
     "data": {
      "text/plain": [
       "['PreferenteSólo plaza H',\n",
       " 'Cama Turista',\n",
       " 'Cama G. Clase',\n",
       " 'Turista PlusSólo plaza H']"
      ]
     },
     "execution_count": 90,
     "metadata": {},
     "output_type": "execute_result"
    }
   ],
   "source": [
    "get_list_minor_one_percent(renfe7,'CLASE',400)"
   ]
  },
  {
   "cell_type": "code",
   "execution_count": 91,
   "metadata": {},
   "outputs": [],
   "source": [
    "list_delete_clase = get_list_minor_one_percent(renfe7,'CLASE',400)"
   ]
  },
  {
   "cell_type": "code",
   "execution_count": 92,
   "metadata": {},
   "outputs": [],
   "source": [
    "delete_list_df(renfe7,'CLASE', list_delete_clase)"
   ]
  },
  {
   "cell_type": "code",
   "execution_count": 93,
   "metadata": {},
   "outputs": [
    {
     "data": {
      "text/plain": [
       "CLASE\n",
       "Turista                243860\n",
       "sin_clase               35554\n",
       "Preferente              30713\n",
       "Turista Plus            23320\n",
       "Turista con enlace      19114\n",
       "TuristaSólo plaza H      1951\n",
       "Name: count, dtype: int64"
      ]
     },
     "execution_count": 93,
     "metadata": {},
     "output_type": "execute_result"
    }
   ],
   "source": [
    "renfe7['CLASE'].value_counts()"
   ]
  },
  {
   "cell_type": "code",
   "execution_count": 94,
   "metadata": {},
   "outputs": [
    {
     "data": {
      "text/plain": [
       "TIPO_TARIFA\n",
       "Promo                      225900\n",
       "Flexible                    64656\n",
       "sin tarifa                  35406\n",
       "Adulto ida                  20727\n",
       "Promo +                      7669\n",
       "COD.PROMOCIONAL               144\n",
       "Mesa                            7\n",
       "4x100                           1\n",
       "Grupos Ida                      1\n",
       "Doble Familiar-Flexible         1\n",
       "Name: count, dtype: int64"
      ]
     },
     "execution_count": 94,
     "metadata": {},
     "output_type": "execute_result"
    }
   ],
   "source": [
    "renfe7['TIPO_TARIFA'].value_counts()"
   ]
  },
  {
   "cell_type": "code",
   "execution_count": 95,
   "metadata": {},
   "outputs": [],
   "source": [
    "list_delete_tarifa = get_list_minor_one_percent(renfe7,'TIPO_TARIFA',400)"
   ]
  },
  {
   "cell_type": "code",
   "execution_count": 96,
   "metadata": {},
   "outputs": [],
   "source": [
    "delete_list_df(renfe7, 'TIPO_TARIFA', list_delete_tarifa)"
   ]
  },
  {
   "cell_type": "code",
   "execution_count": 97,
   "metadata": {},
   "outputs": [
    {
     "data": {
      "text/plain": [
       "TIPO_TARIFA\n",
       "Promo         225900\n",
       "Flexible       64656\n",
       "sin tarifa     35406\n",
       "Adulto ida     20727\n",
       "Promo +         7669\n",
       "Name: count, dtype: int64"
      ]
     },
     "execution_count": 97,
     "metadata": {},
     "output_type": "execute_result"
    }
   ],
   "source": [
    "renfe7['TIPO_TARIFA'].value_counts()"
   ]
  },
  {
   "cell_type": "code",
   "execution_count": 99,
   "metadata": {},
   "outputs": [
    {
     "data": {
      "text/plain": [
       "TIPO_TREN\n",
       "AVE              226574\n",
       "sin_tipo_tren     35375\n",
       "ALVIA             18812\n",
       "REGIONAL          16591\n",
       "INTERCITY         16426\n",
       "AV City            9211\n",
       "MD-LD              6779\n",
       "AVE-TGV            4448\n",
       "R. EXPRES          4131\n",
       "LD                 3649\n",
       "TRENHOTEL          3556\n",
       "AVE-LD             2857\n",
       "AVE-MD             2351\n",
       "LD-MD              2346\n",
       "MD-AVE              763\n",
       "MD                  489\n",
       "Name: count, dtype: int64"
      ]
     },
     "execution_count": 99,
     "metadata": {},
     "output_type": "execute_result"
    }
   ],
   "source": [
    "renfe7['TIPO_TREN'].value_counts()"
   ]
  },
  {
   "cell_type": "code",
   "execution_count": 98,
   "metadata": {},
   "outputs": [
    {
     "data": {
      "text/plain": [
       "array(['ALVIA', 'AVE', 'REGIONAL', 'AVE-TGV', 'R. EXPRES', 'INTERCITY',\n",
       "       'TRENHOTEL', 'LD', 'MD-LD', 'sin_tipo_tren', 'AV City', 'MD-AVE',\n",
       "       'AVE-LD', 'AVE-MD', 'LD-MD', 'MD'], dtype=object)"
      ]
     },
     "execution_count": 98,
     "metadata": {},
     "output_type": "execute_result"
    }
   ],
   "source": [
    "renfe7['TIPO_TREN'].unique()"
   ]
  },
  {
   "cell_type": "code",
   "execution_count": 100,
   "metadata": {},
   "outputs": [],
   "source": [
    "mapeo_tipos_tren = {\n",
    "    'AVE': 'AVE',\n",
    "    'sin_tipo_tren': 'Otros',\n",
    "    'ALVIA': 'Otros',\n",
    "    'REGIONAL': 'Regional',\n",
    "    'INTERCITY': 'Intercity',\n",
    "    'AV City': 'AVE',\n",
    "    'AVE-TGV': 'AVE',\n",
    "    'R. EXPRES': 'Regional Express',\n",
    "    'TRENHOTEL': 'Otros',\n",
    "    'MD-LD': 'Otros',\n",
    "    'LD': 'Otros',\n",
    "    'AVE-LD': 'AVE',\n",
    "    'AVE-MD': 'AVE',\n",
    "    'LD-MD': 'Otros',\n",
    "    'MD': 'Otros',\n",
    "    'MD-AVE': 'AVE'\n",
    "}"
   ]
  },
  {
   "cell_type": "code",
   "execution_count": 101,
   "metadata": {},
   "outputs": [],
   "source": [
    "renfe7['TIPO_TREN_GRUPO'] = renfe7['TIPO_TREN'].map(mapeo_tipos_tren)\n"
   ]
  },
  {
   "cell_type": "code",
   "execution_count": 102,
   "metadata": {},
   "outputs": [
    {
     "name": "stdout",
     "output_type": "stream",
     "text": [
      "<class 'pandas.core.frame.DataFrame'>\n",
      "Index: 354358 entries, 0 to 355027\n",
      "Data columns (total 8 columns):\n",
      " #   Column           Non-Null Count   Dtype  \n",
      "---  ------           --------------   -----  \n",
      " 0   TIPO_TREN        354358 non-null  object \n",
      " 1   TIPO_TARIFA      354358 non-null  object \n",
      " 2   CLASE            354358 non-null  object \n",
      " 3   PRECIO           354358 non-null  float64\n",
      " 4   DAYS_TO_TRIP     354358 non-null  float64\n",
      " 5   JOURNEY_TIME     354358 non-null  float64\n",
      " 6   TRIP             354358 non-null  object \n",
      " 7   TIPO_TREN_GRUPO  354358 non-null  object \n",
      "dtypes: float64(3), object(5)\n",
      "memory usage: 24.3+ MB\n"
     ]
    }
   ],
   "source": [
    "renfe7.info()"
   ]
  },
  {
   "cell_type": "code",
   "execution_count": 109,
   "metadata": {},
   "outputs": [
    {
     "data": {
      "text/html": [
       "<div>\n",
       "<style scoped>\n",
       "    .dataframe tbody tr th:only-of-type {\n",
       "        vertical-align: middle;\n",
       "    }\n",
       "\n",
       "    .dataframe tbody tr th {\n",
       "        vertical-align: top;\n",
       "    }\n",
       "\n",
       "    .dataframe thead th {\n",
       "        text-align: right;\n",
       "    }\n",
       "</style>\n",
       "<table border=\"1\" class=\"dataframe\">\n",
       "  <thead>\n",
       "    <tr style=\"text-align: right;\">\n",
       "      <th></th>\n",
       "      <th>TIPO_TREN</th>\n",
       "      <th>TIPO_TARIFA</th>\n",
       "      <th>CLASE</th>\n",
       "      <th>PRECIO</th>\n",
       "      <th>DAYS_TO_TRIP</th>\n",
       "      <th>JOURNEY_TIME</th>\n",
       "      <th>TRIP</th>\n",
       "      <th>TIPO_TREN_GRUPO</th>\n",
       "    </tr>\n",
       "  </thead>\n",
       "  <tbody>\n",
       "    <tr>\n",
       "      <th>146</th>\n",
       "      <td>sin_tipo_tren</td>\n",
       "      <td>Adulto ida</td>\n",
       "      <td>Turista</td>\n",
       "      <td>28.35</td>\n",
       "      <td>0.95</td>\n",
       "      <td>403.0</td>\n",
       "      <td>MADRID - VALENCIA</td>\n",
       "      <td>Otros</td>\n",
       "    </tr>\n",
       "    <tr>\n",
       "      <th>152</th>\n",
       "      <td>AVE</td>\n",
       "      <td>Flexible</td>\n",
       "      <td>TuristaSólo plaza H</td>\n",
       "      <td>107.70</td>\n",
       "      <td>0.60</td>\n",
       "      <td>170.0</td>\n",
       "      <td>MADRID - BARCELONA</td>\n",
       "      <td>AVE</td>\n",
       "    </tr>\n",
       "    <tr>\n",
       "      <th>193</th>\n",
       "      <td>AVE</td>\n",
       "      <td>Promo</td>\n",
       "      <td>Turista Plus</td>\n",
       "      <td>72.30</td>\n",
       "      <td>0.62</td>\n",
       "      <td>160.0</td>\n",
       "      <td>MADRID - SEVILLA</td>\n",
       "      <td>AVE</td>\n",
       "    </tr>\n",
       "    <tr>\n",
       "      <th>286</th>\n",
       "      <td>AVE</td>\n",
       "      <td>Flexible</td>\n",
       "      <td>sin_clase</td>\n",
       "      <td>107.70</td>\n",
       "      <td>0.52</td>\n",
       "      <td>184.0</td>\n",
       "      <td>MADRID - BARCELONA</td>\n",
       "      <td>AVE</td>\n",
       "    </tr>\n",
       "    <tr>\n",
       "      <th>367</th>\n",
       "      <td>AVE</td>\n",
       "      <td>Promo</td>\n",
       "      <td>Turista</td>\n",
       "      <td>45.30</td>\n",
       "      <td>0.57</td>\n",
       "      <td>98.0</td>\n",
       "      <td>VALENCIA - MADRID</td>\n",
       "      <td>AVE</td>\n",
       "    </tr>\n",
       "    <tr>\n",
       "      <th>...</th>\n",
       "      <td>...</td>\n",
       "      <td>...</td>\n",
       "      <td>...</td>\n",
       "      <td>...</td>\n",
       "      <td>...</td>\n",
       "      <td>...</td>\n",
       "      <td>...</td>\n",
       "      <td>...</td>\n",
       "    </tr>\n",
       "    <tr>\n",
       "      <th>354752</th>\n",
       "      <td>AVE</td>\n",
       "      <td>Flexible</td>\n",
       "      <td>Turista</td>\n",
       "      <td>127.10</td>\n",
       "      <td>0.93</td>\n",
       "      <td>150.0</td>\n",
       "      <td>BARCELONA - MADRID</td>\n",
       "      <td>AVE</td>\n",
       "    </tr>\n",
       "    <tr>\n",
       "      <th>354864</th>\n",
       "      <td>AVE</td>\n",
       "      <td>Flexible</td>\n",
       "      <td>Turista</td>\n",
       "      <td>76.30</td>\n",
       "      <td>0.61</td>\n",
       "      <td>159.0</td>\n",
       "      <td>SEVILLA - MADRID</td>\n",
       "      <td>AVE</td>\n",
       "    </tr>\n",
       "    <tr>\n",
       "      <th>354901</th>\n",
       "      <td>AVE</td>\n",
       "      <td>Flexible</td>\n",
       "      <td>sin_clase</td>\n",
       "      <td>107.70</td>\n",
       "      <td>0.49</td>\n",
       "      <td>190.0</td>\n",
       "      <td>MADRID - BARCELONA</td>\n",
       "      <td>AVE</td>\n",
       "    </tr>\n",
       "    <tr>\n",
       "      <th>354918</th>\n",
       "      <td>AVE</td>\n",
       "      <td>Flexible</td>\n",
       "      <td>Turista</td>\n",
       "      <td>107.70</td>\n",
       "      <td>0.53</td>\n",
       "      <td>190.0</td>\n",
       "      <td>BARCELONA - MADRID</td>\n",
       "      <td>AVE</td>\n",
       "    </tr>\n",
       "    <tr>\n",
       "      <th>354978</th>\n",
       "      <td>AVE</td>\n",
       "      <td>Promo</td>\n",
       "      <td>Preferente</td>\n",
       "      <td>66.55</td>\n",
       "      <td>0.92</td>\n",
       "      <td>104.0</td>\n",
       "      <td>MADRID - VALENCIA</td>\n",
       "      <td>AVE</td>\n",
       "    </tr>\n",
       "  </tbody>\n",
       "</table>\n",
       "<p>6325 rows × 8 columns</p>\n",
       "</div>"
      ],
      "text/plain": [
       "            TIPO_TREN TIPO_TARIFA                CLASE  PRECIO  DAYS_TO_TRIP  \\\n",
       "146     sin_tipo_tren  Adulto ida              Turista   28.35          0.95   \n",
       "152               AVE    Flexible  TuristaSólo plaza H  107.70          0.60   \n",
       "193               AVE       Promo         Turista Plus   72.30          0.62   \n",
       "286               AVE    Flexible            sin_clase  107.70          0.52   \n",
       "367               AVE       Promo              Turista   45.30          0.57   \n",
       "...               ...         ...                  ...     ...           ...   \n",
       "354752            AVE    Flexible              Turista  127.10          0.93   \n",
       "354864            AVE    Flexible              Turista   76.30          0.61   \n",
       "354901            AVE    Flexible            sin_clase  107.70          0.49   \n",
       "354918            AVE    Flexible              Turista  107.70          0.53   \n",
       "354978            AVE       Promo           Preferente   66.55          0.92   \n",
       "\n",
       "        JOURNEY_TIME                TRIP TIPO_TREN_GRUPO  \n",
       "146            403.0   MADRID - VALENCIA           Otros  \n",
       "152            170.0  MADRID - BARCELONA             AVE  \n",
       "193            160.0    MADRID - SEVILLA             AVE  \n",
       "286            184.0  MADRID - BARCELONA             AVE  \n",
       "367             98.0   VALENCIA - MADRID             AVE  \n",
       "...              ...                 ...             ...  \n",
       "354752         150.0  BARCELONA - MADRID             AVE  \n",
       "354864         159.0    SEVILLA - MADRID             AVE  \n",
       "354901         190.0  MADRID - BARCELONA             AVE  \n",
       "354918         190.0  BARCELONA - MADRID             AVE  \n",
       "354978         104.0   MADRID - VALENCIA             AVE  \n",
       "\n",
       "[6325 rows x 8 columns]"
      ]
     },
     "execution_count": 109,
     "metadata": {},
     "output_type": "execute_result"
    }
   ],
   "source": [
    "renfe7[renfe7['DAYS_TO_TRIP']<1]"
   ]
  },
  {
   "cell_type": "markdown",
   "metadata": {},
   "source": [
    "## Exporto mis variables limpias para presentarlas en Power Bi"
   ]
  },
  {
   "cell_type": "code",
   "execution_count": 104,
   "metadata": {},
   "outputs": [],
   "source": [
    "file_name = \"df_renfe_export.xlsx\"\n",
    "renfe7.to_excel(file_name)"
   ]
  },
  {
   "cell_type": "markdown",
   "metadata": {},
   "source": [
    "## Now, change categorical variable by numerics"
   ]
  },
  {
   "cell_type": "code",
   "execution_count": 65,
   "metadata": {},
   "outputs": [],
   "source": [
    "l_num, l_bool, l_cat = get_list_variables(renfe7)"
   ]
  },
  {
   "cell_type": "code",
   "execution_count": 82,
   "metadata": {},
   "outputs": [
    {
     "data": {
      "text/plain": [
       "array(['Otros', 'AVE', 'Regional', 'Regional Express', 'Intercity', nan],\n",
       "      dtype=object)"
      ]
     },
     "execution_count": 82,
     "metadata": {},
     "output_type": "execute_result"
    }
   ],
   "source": [
    "renfe7['TIPO_TREN_GRUPO'].unique()"
   ]
  },
  {
   "cell_type": "code",
   "execution_count": 67,
   "metadata": {},
   "outputs": [],
   "source": [
    "l_cat.remove('TIPO_TREN')"
   ]
  },
  {
   "cell_type": "code",
   "execution_count": 68,
   "metadata": {},
   "outputs": [],
   "source": [
    "del(renfe7['TIPO_TREN'])"
   ]
  },
  {
   "cell_type": "code",
   "execution_count": 69,
   "metadata": {},
   "outputs": [
    {
     "data": {
      "text/plain": [
       "['TIPO_TARIFA', 'CLASE', 'TRIP', 'TIPO_TREN_GRUPO']"
      ]
     },
     "execution_count": 69,
     "metadata": {},
     "output_type": "execute_result"
    }
   ],
   "source": [
    "l_cat"
   ]
  },
  {
   "cell_type": "code",
   "execution_count": 70,
   "metadata": {},
   "outputs": [],
   "source": [
    "renfe8 = renfe7.copy()"
   ]
  },
  {
   "cell_type": "code",
   "execution_count": 71,
   "metadata": {},
   "outputs": [],
   "source": [
    "renfe8 = pd.get_dummies(data=renfe8, columns=l_cat, dtype=int)"
   ]
  },
  {
   "cell_type": "code",
   "execution_count": 72,
   "metadata": {},
   "outputs": [
    {
     "data": {
      "text/html": [
       "<div>\n",
       "<style scoped>\n",
       "    .dataframe tbody tr th:only-of-type {\n",
       "        vertical-align: middle;\n",
       "    }\n",
       "\n",
       "    .dataframe tbody tr th {\n",
       "        vertical-align: top;\n",
       "    }\n",
       "\n",
       "    .dataframe thead th {\n",
       "        text-align: right;\n",
       "    }\n",
       "</style>\n",
       "<table border=\"1\" class=\"dataframe\">\n",
       "  <thead>\n",
       "    <tr style=\"text-align: right;\">\n",
       "      <th></th>\n",
       "      <th>PRECIO</th>\n",
       "      <th>DAYS_TO_TRIP</th>\n",
       "      <th>JOURNEY_TIME</th>\n",
       "      <th>TIPO_TARIFA_Adulto ida</th>\n",
       "      <th>TIPO_TARIFA_Flexible</th>\n",
       "      <th>TIPO_TARIFA_Promo</th>\n",
       "      <th>TIPO_TARIFA_Promo +</th>\n",
       "      <th>TIPO_TARIFA_sin tarifa</th>\n",
       "      <th>CLASE_Preferente</th>\n",
       "      <th>CLASE_Turista</th>\n",
       "      <th>...</th>\n",
       "      <th>TRIP_MADRID - SEVILLA</th>\n",
       "      <th>TRIP_MADRID - VALENCIA</th>\n",
       "      <th>TRIP_PONFERRADA - MADRID</th>\n",
       "      <th>TRIP_SEVILLA - MADRID</th>\n",
       "      <th>TRIP_VALENCIA - MADRID</th>\n",
       "      <th>TIPO_TREN_GRUPO_AVE</th>\n",
       "      <th>TIPO_TREN_GRUPO_Intercity</th>\n",
       "      <th>TIPO_TREN_GRUPO_Otros</th>\n",
       "      <th>TIPO_TREN_GRUPO_Regional</th>\n",
       "      <th>TIPO_TREN_GRUPO_Regional Express</th>\n",
       "    </tr>\n",
       "  </thead>\n",
       "  <tbody>\n",
       "    <tr>\n",
       "      <th>0</th>\n",
       "      <td>67.20</td>\n",
       "      <td>34.79</td>\n",
       "      <td>158.0</td>\n",
       "      <td>0</td>\n",
       "      <td>1</td>\n",
       "      <td>0</td>\n",
       "      <td>0</td>\n",
       "      <td>0</td>\n",
       "      <td>0</td>\n",
       "      <td>1</td>\n",
       "      <td>...</td>\n",
       "      <td>0</td>\n",
       "      <td>0</td>\n",
       "      <td>0</td>\n",
       "      <td>1</td>\n",
       "      <td>0</td>\n",
       "      <td>0</td>\n",
       "      <td>0</td>\n",
       "      <td>1</td>\n",
       "      <td>0</td>\n",
       "      <td>0</td>\n",
       "    </tr>\n",
       "    <tr>\n",
       "      <th>1</th>\n",
       "      <td>107.70</td>\n",
       "      <td>21.87</td>\n",
       "      <td>190.0</td>\n",
       "      <td>0</td>\n",
       "      <td>1</td>\n",
       "      <td>0</td>\n",
       "      <td>0</td>\n",
       "      <td>0</td>\n",
       "      <td>0</td>\n",
       "      <td>1</td>\n",
       "      <td>...</td>\n",
       "      <td>0</td>\n",
       "      <td>0</td>\n",
       "      <td>0</td>\n",
       "      <td>0</td>\n",
       "      <td>0</td>\n",
       "      <td>1</td>\n",
       "      <td>0</td>\n",
       "      <td>0</td>\n",
       "      <td>0</td>\n",
       "      <td>0</td>\n",
       "    </tr>\n",
       "    <tr>\n",
       "      <th>2</th>\n",
       "      <td>47.30</td>\n",
       "      <td>36.30</td>\n",
       "      <td>150.0</td>\n",
       "      <td>0</td>\n",
       "      <td>0</td>\n",
       "      <td>1</td>\n",
       "      <td>0</td>\n",
       "      <td>0</td>\n",
       "      <td>0</td>\n",
       "      <td>1</td>\n",
       "      <td>...</td>\n",
       "      <td>0</td>\n",
       "      <td>0</td>\n",
       "      <td>0</td>\n",
       "      <td>1</td>\n",
       "      <td>0</td>\n",
       "      <td>1</td>\n",
       "      <td>0</td>\n",
       "      <td>0</td>\n",
       "      <td>0</td>\n",
       "      <td>0</td>\n",
       "    </tr>\n",
       "    <tr>\n",
       "      <th>3</th>\n",
       "      <td>28.35</td>\n",
       "      <td>18.73</td>\n",
       "      <td>460.0</td>\n",
       "      <td>1</td>\n",
       "      <td>0</td>\n",
       "      <td>0</td>\n",
       "      <td>0</td>\n",
       "      <td>0</td>\n",
       "      <td>0</td>\n",
       "      <td>1</td>\n",
       "      <td>...</td>\n",
       "      <td>0</td>\n",
       "      <td>0</td>\n",
       "      <td>0</td>\n",
       "      <td>0</td>\n",
       "      <td>1</td>\n",
       "      <td>0</td>\n",
       "      <td>0</td>\n",
       "      <td>0</td>\n",
       "      <td>1</td>\n",
       "      <td>0</td>\n",
       "    </tr>\n",
       "    <tr>\n",
       "      <th>4</th>\n",
       "      <td>66.75</td>\n",
       "      <td>47.74</td>\n",
       "      <td>179.0</td>\n",
       "      <td>0</td>\n",
       "      <td>0</td>\n",
       "      <td>1</td>\n",
       "      <td>0</td>\n",
       "      <td>0</td>\n",
       "      <td>0</td>\n",
       "      <td>1</td>\n",
       "      <td>...</td>\n",
       "      <td>0</td>\n",
       "      <td>0</td>\n",
       "      <td>0</td>\n",
       "      <td>0</td>\n",
       "      <td>0</td>\n",
       "      <td>1</td>\n",
       "      <td>0</td>\n",
       "      <td>0</td>\n",
       "      <td>0</td>\n",
       "      <td>0</td>\n",
       "    </tr>\n",
       "  </tbody>\n",
       "</table>\n",
       "<p>5 rows × 27 columns</p>\n",
       "</div>"
      ],
      "text/plain": [
       "   PRECIO  DAYS_TO_TRIP  JOURNEY_TIME  TIPO_TARIFA_Adulto ida  \\\n",
       "0   67.20         34.79         158.0                       0   \n",
       "1  107.70         21.87         190.0                       0   \n",
       "2   47.30         36.30         150.0                       0   \n",
       "3   28.35         18.73         460.0                       1   \n",
       "4   66.75         47.74         179.0                       0   \n",
       "\n",
       "   TIPO_TARIFA_Flexible  TIPO_TARIFA_Promo  TIPO_TARIFA_Promo +  \\\n",
       "0                     1                  0                    0   \n",
       "1                     1                  0                    0   \n",
       "2                     0                  1                    0   \n",
       "3                     0                  0                    0   \n",
       "4                     0                  1                    0   \n",
       "\n",
       "   TIPO_TARIFA_sin tarifa  CLASE_Preferente  CLASE_Turista  ...  \\\n",
       "0                       0                 0              1  ...   \n",
       "1                       0                 0              1  ...   \n",
       "2                       0                 0              1  ...   \n",
       "3                       0                 0              1  ...   \n",
       "4                       0                 0              1  ...   \n",
       "\n",
       "   TRIP_MADRID - SEVILLA  TRIP_MADRID - VALENCIA  TRIP_PONFERRADA - MADRID  \\\n",
       "0                      0                       0                         0   \n",
       "1                      0                       0                         0   \n",
       "2                      0                       0                         0   \n",
       "3                      0                       0                         0   \n",
       "4                      0                       0                         0   \n",
       "\n",
       "   TRIP_SEVILLA - MADRID  TRIP_VALENCIA - MADRID  TIPO_TREN_GRUPO_AVE  \\\n",
       "0                      1                       0                    0   \n",
       "1                      0                       0                    1   \n",
       "2                      1                       0                    1   \n",
       "3                      0                       1                    0   \n",
       "4                      0                       0                    1   \n",
       "\n",
       "   TIPO_TREN_GRUPO_Intercity  TIPO_TREN_GRUPO_Otros  TIPO_TREN_GRUPO_Regional  \\\n",
       "0                          0                      1                         0   \n",
       "1                          0                      0                         0   \n",
       "2                          0                      0                         0   \n",
       "3                          0                      0                         1   \n",
       "4                          0                      0                         0   \n",
       "\n",
       "   TIPO_TREN_GRUPO_Regional Express  \n",
       "0                                 0  \n",
       "1                                 0  \n",
       "2                                 0  \n",
       "3                                 0  \n",
       "4                                 0  \n",
       "\n",
       "[5 rows x 27 columns]"
      ]
     },
     "execution_count": 72,
     "metadata": {},
     "output_type": "execute_result"
    }
   ],
   "source": [
    "renfe8.head()"
   ]
  },
  {
   "cell_type": "code",
   "execution_count": 73,
   "metadata": {},
   "outputs": [],
   "source": [
    "l_num, l_bool, l_cat = get_list_variables(renfe8)"
   ]
  },
  {
   "cell_type": "code",
   "execution_count": 74,
   "metadata": {},
   "outputs": [
    {
     "data": {
      "text/plain": [
       "['DAYS_TO_TRIP', 'JOURNEY_TIME']"
      ]
     },
     "execution_count": 74,
     "metadata": {},
     "output_type": "execute_result"
    }
   ],
   "source": [
    "l_num"
   ]
  },
  {
   "cell_type": "code",
   "execution_count": 75,
   "metadata": {},
   "outputs": [],
   "source": [
    "MinMax = MinMaxScaler()"
   ]
  },
  {
   "cell_type": "code",
   "execution_count": 76,
   "metadata": {},
   "outputs": [],
   "source": [
    "renfe8[l_num]=MinMax.fit_transform(renfe8[l_num])"
   ]
  },
  {
   "cell_type": "code",
   "execution_count": 77,
   "metadata": {},
   "outputs": [
    {
     "data": {
      "text/html": [
       "<div>\n",
       "<style scoped>\n",
       "    .dataframe tbody tr th:only-of-type {\n",
       "        vertical-align: middle;\n",
       "    }\n",
       "\n",
       "    .dataframe tbody tr th {\n",
       "        vertical-align: top;\n",
       "    }\n",
       "\n",
       "    .dataframe thead th {\n",
       "        text-align: right;\n",
       "    }\n",
       "</style>\n",
       "<table border=\"1\" class=\"dataframe\">\n",
       "  <thead>\n",
       "    <tr style=\"text-align: right;\">\n",
       "      <th></th>\n",
       "      <th>PRECIO</th>\n",
       "      <th>DAYS_TO_TRIP</th>\n",
       "      <th>JOURNEY_TIME</th>\n",
       "      <th>TIPO_TARIFA_Adulto ida</th>\n",
       "      <th>TIPO_TARIFA_Flexible</th>\n",
       "      <th>TIPO_TARIFA_Promo</th>\n",
       "      <th>TIPO_TARIFA_Promo +</th>\n",
       "      <th>TIPO_TARIFA_sin tarifa</th>\n",
       "      <th>CLASE_Preferente</th>\n",
       "      <th>CLASE_Turista</th>\n",
       "      <th>...</th>\n",
       "      <th>TRIP_MADRID - SEVILLA</th>\n",
       "      <th>TRIP_MADRID - VALENCIA</th>\n",
       "      <th>TRIP_PONFERRADA - MADRID</th>\n",
       "      <th>TRIP_SEVILLA - MADRID</th>\n",
       "      <th>TRIP_VALENCIA - MADRID</th>\n",
       "      <th>TIPO_TREN_GRUPO_AVE</th>\n",
       "      <th>TIPO_TREN_GRUPO_Intercity</th>\n",
       "      <th>TIPO_TREN_GRUPO_Otros</th>\n",
       "      <th>TIPO_TREN_GRUPO_Regional</th>\n",
       "      <th>TIPO_TREN_GRUPO_Regional Express</th>\n",
       "    </tr>\n",
       "  </thead>\n",
       "  <tbody>\n",
       "    <tr>\n",
       "      <th>0</th>\n",
       "      <td>67.2</td>\n",
       "      <td>0.721026</td>\n",
       "      <td>0.092736</td>\n",
       "      <td>0</td>\n",
       "      <td>1</td>\n",
       "      <td>0</td>\n",
       "      <td>0</td>\n",
       "      <td>0</td>\n",
       "      <td>0</td>\n",
       "      <td>1</td>\n",
       "      <td>...</td>\n",
       "      <td>0</td>\n",
       "      <td>0</td>\n",
       "      <td>0</td>\n",
       "      <td>1</td>\n",
       "      <td>0</td>\n",
       "      <td>0</td>\n",
       "      <td>0</td>\n",
       "      <td>1</td>\n",
       "      <td>0</td>\n",
       "      <td>0</td>\n",
       "    </tr>\n",
       "  </tbody>\n",
       "</table>\n",
       "<p>1 rows × 27 columns</p>\n",
       "</div>"
      ],
      "text/plain": [
       "   PRECIO  DAYS_TO_TRIP  JOURNEY_TIME  TIPO_TARIFA_Adulto ida  \\\n",
       "0    67.2      0.721026      0.092736                       0   \n",
       "\n",
       "   TIPO_TARIFA_Flexible  TIPO_TARIFA_Promo  TIPO_TARIFA_Promo +  \\\n",
       "0                     1                  0                    0   \n",
       "\n",
       "   TIPO_TARIFA_sin tarifa  CLASE_Preferente  CLASE_Turista  ...  \\\n",
       "0                       0                 0              1  ...   \n",
       "\n",
       "   TRIP_MADRID - SEVILLA  TRIP_MADRID - VALENCIA  TRIP_PONFERRADA - MADRID  \\\n",
       "0                      0                       0                         0   \n",
       "\n",
       "   TRIP_SEVILLA - MADRID  TRIP_VALENCIA - MADRID  TIPO_TREN_GRUPO_AVE  \\\n",
       "0                      1                       0                    0   \n",
       "\n",
       "   TIPO_TREN_GRUPO_Intercity  TIPO_TREN_GRUPO_Otros  TIPO_TREN_GRUPO_Regional  \\\n",
       "0                          0                      1                         0   \n",
       "\n",
       "   TIPO_TREN_GRUPO_Regional Express  \n",
       "0                                 0  \n",
       "\n",
       "[1 rows x 27 columns]"
      ]
     },
     "execution_count": 77,
     "metadata": {},
     "output_type": "execute_result"
    }
   ],
   "source": [
    "renfe8.head(1)"
   ]
  },
  {
   "cell_type": "markdown",
   "metadata": {},
   "source": [
    "## Ready for Aply model"
   ]
  }
 ],
 "metadata": {
  "kernelspec": {
   "display_name": "Python 3",
   "language": "python",
   "name": "python3"
  },
  "language_info": {
   "codemirror_mode": {
    "name": "ipython",
    "version": 3
   },
   "file_extension": ".py",
   "mimetype": "text/x-python",
   "name": "python",
   "nbconvert_exporter": "python",
   "pygments_lexer": "ipython3",
   "version": "3.9.0"
  }
 },
 "nbformat": 4,
 "nbformat_minor": 2
}
