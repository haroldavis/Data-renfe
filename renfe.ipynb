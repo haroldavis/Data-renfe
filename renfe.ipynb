{
 "cells": [
  {
   "cell_type": "code",
   "execution_count": 14,
   "metadata": {},
   "outputs": [],
   "source": [
    "#importamos librería\n",
    "import pandas as pd\n",
    "import numpy as np\n",
    "import matplotlib.pyplot as plt\n",
    "import seaborn as sns\n",
    "\n",
    "from sklearn.preprocessing import LabelEncoder,MinMaxScaler\n",
    "\n",
    "\n"
   ]
  },
  {
   "cell_type": "code",
   "execution_count": 13,
   "metadata": {},
   "outputs": [
    {
     "name": "stdout",
     "output_type": "stream",
     "text": [
      "Defaulting to user installation because normal site-packages is not writeableNote: you may need to restart the kernel to use updated packages.\n",
      "\n",
      "Collecting scikit-learn\n",
      "  Downloading scikit_learn-1.4.2-cp312-cp312-win_amd64.whl.metadata (11 kB)\n",
      "Requirement already satisfied: numpy>=1.19.5 in c:\\users\\rafas\\appdata\\roaming\\python\\python312\\site-packages (from scikit-learn) (1.26.4)\n",
      "Collecting scipy>=1.6.0 (from scikit-learn)\n",
      "  Downloading scipy-1.13.0-cp312-cp312-win_amd64.whl.metadata (60 kB)\n",
      "     ---------------------------------------- 0.0/60.6 kB ? eta -:--:--\n",
      "     ---------------------------------------- 60.6/60.6 kB 1.6 MB/s eta 0:00:00\n",
      "Collecting joblib>=1.2.0 (from scikit-learn)\n",
      "  Downloading joblib-1.4.2-py3-none-any.whl.metadata (5.4 kB)\n",
      "Collecting threadpoolctl>=2.0.0 (from scikit-learn)\n",
      "  Downloading threadpoolctl-3.5.0-py3-none-any.whl.metadata (13 kB)\n",
      "Downloading scikit_learn-1.4.2-cp312-cp312-win_amd64.whl (10.6 MB)\n",
      "   ---------------------------------------- 0.0/10.6 MB ? eta -:--:--\n",
      "   -- ------------------------------------- 0.7/10.6 MB 14.8 MB/s eta 0:00:01\n",
      "   ----- ---------------------------------- 1.4/10.6 MB 11.5 MB/s eta 0:00:01\n",
      "   -------- ------------------------------- 2.2/10.6 MB 11.5 MB/s eta 0:00:01\n",
      "   ----------- ---------------------------- 3.1/10.6 MB 12.4 MB/s eta 0:00:01\n",
      "   --------------- ------------------------ 4.0/10.6 MB 12.7 MB/s eta 0:00:01\n",
      "   ---------------- ----------------------- 4.5/10.6 MB 11.9 MB/s eta 0:00:01\n",
      "   -------------------- ------------------- 5.4/10.6 MB 12.3 MB/s eta 0:00:01\n",
      "   ----------------------- ---------------- 6.3/10.6 MB 12.7 MB/s eta 0:00:01\n",
      "   ------------------------- -------------- 6.7/10.6 MB 11.6 MB/s eta 0:00:01\n",
      "   -------------------------- ------------- 7.1/10.6 MB 9.7 MB/s eta 0:00:01\n",
      "   --------------------------- ------------ 7.2/10.6 MB 8.7 MB/s eta 0:00:01\n",
      "   ----------------------------- ---------- 7.9/10.6 MB 8.7 MB/s eta 0:00:01\n",
      "   -------------------------------- ------- 8.6/10.6 MB 8.9 MB/s eta 0:00:01\n",
      "   ------------------------------------ --- 9.7/10.6 MB 9.4 MB/s eta 0:00:01\n",
      "   ---------------------------------------  10.5/10.6 MB 9.6 MB/s eta 0:00:01\n",
      "   ---------------------------------------  10.6/10.6 MB 9.6 MB/s eta 0:00:01\n",
      "   ---------------------------------------- 10.6/10.6 MB 8.6 MB/s eta 0:00:00\n",
      "Downloading joblib-1.4.2-py3-none-any.whl (301 kB)\n",
      "   ---------------------------------------- 0.0/301.8 kB ? eta -:--:--\n",
      "   --------------------------------------  297.0/301.8 kB 17.9 MB/s eta 0:00:01\n",
      "   ---------------------------------------- 301.8/301.8 kB 3.1 MB/s eta 0:00:00\n",
      "Downloading scipy-1.13.0-cp312-cp312-win_amd64.whl (45.9 MB)\n",
      "   ---------------------------------------- 0.0/45.9 MB ? eta -:--:--\n",
      "    --------------------------------------- 0.7/45.9 MB 23.8 MB/s eta 0:00:02\n",
      "   - -------------------------------------- 1.5/45.9 MB 19.0 MB/s eta 0:00:03\n",
      "   -- ------------------------------------- 2.4/45.9 MB 16.6 MB/s eta 0:00:03\n",
      "   -- ------------------------------------- 3.1/45.9 MB 15.4 MB/s eta 0:00:03\n",
      "   --- ------------------------------------ 3.7/45.9 MB 14.7 MB/s eta 0:00:03\n",
      "   --- ------------------------------------ 3.8/45.9 MB 11.6 MB/s eta 0:00:04\n",
      "   --- ------------------------------------ 4.4/45.9 MB 11.3 MB/s eta 0:00:04\n",
      "   ---- ----------------------------------- 5.3/45.9 MB 11.6 MB/s eta 0:00:04\n",
      "   ----- ---------------------------------- 6.3/45.9 MB 12.2 MB/s eta 0:00:04\n",
      "   ------ --------------------------------- 7.0/45.9 MB 12.0 MB/s eta 0:00:04\n",
      "   ------ --------------------------------- 7.9/45.9 MB 12.6 MB/s eta 0:00:04\n",
      "   ------- -------------------------------- 8.3/45.9 MB 11.7 MB/s eta 0:00:04\n",
      "   ------- -------------------------------- 8.8/45.9 MB 11.8 MB/s eta 0:00:04\n",
      "   -------- ------------------------------- 9.5/45.9 MB 11.7 MB/s eta 0:00:04\n",
      "   -------- ------------------------------- 10.3/45.9 MB 11.7 MB/s eta 0:00:04\n",
      "   --------- ------------------------------ 10.8/45.9 MB 11.1 MB/s eta 0:00:04\n",
      "   ---------- ----------------------------- 11.7/45.9 MB 10.9 MB/s eta 0:00:04\n",
      "   ---------- ----------------------------- 12.4/45.9 MB 10.9 MB/s eta 0:00:04\n",
      "   ----------- ---------------------------- 13.1/45.9 MB 10.9 MB/s eta 0:00:04\n",
      "   ----------- ---------------------------- 13.6/45.9 MB 10.6 MB/s eta 0:00:04\n",
      "   ------------ --------------------------- 14.5/45.9 MB 11.7 MB/s eta 0:00:03\n",
      "   ------------- -------------------------- 15.1/45.9 MB 11.7 MB/s eta 0:00:03\n",
      "   ------------- -------------------------- 15.4/45.9 MB 10.9 MB/s eta 0:00:03\n",
      "   ------------- -------------------------- 15.7/45.9 MB 10.6 MB/s eta 0:00:03\n",
      "   -------------- ------------------------- 16.3/45.9 MB 10.4 MB/s eta 0:00:03\n",
      "   -------------- ------------------------- 16.9/45.9 MB 10.2 MB/s eta 0:00:03\n",
      "   --------------- ------------------------ 17.4/45.9 MB 10.1 MB/s eta 0:00:03\n",
      "   --------------- ------------------------ 18.0/45.9 MB 9.9 MB/s eta 0:00:03\n",
      "   ---------------- ----------------------- 18.7/45.9 MB 10.6 MB/s eta 0:00:03\n",
      "   ----------------- ---------------------- 19.7/45.9 MB 10.7 MB/s eta 0:00:03\n",
      "   ----------------- ---------------------- 20.3/45.9 MB 10.7 MB/s eta 0:00:03\n",
      "   ------------------ --------------------- 21.0/45.9 MB 10.7 MB/s eta 0:00:03\n",
      "   ------------------- -------------------- 21.8/45.9 MB 10.9 MB/s eta 0:00:03\n",
      "   ------------------- -------------------- 22.6/45.9 MB 10.7 MB/s eta 0:00:03\n",
      "   -------------------- ------------------- 23.1/45.9 MB 10.7 MB/s eta 0:00:03\n",
      "   -------------------- ------------------- 23.8/45.9 MB 10.7 MB/s eta 0:00:03\n",
      "   --------------------- ------------------ 24.8/45.9 MB 10.9 MB/s eta 0:00:02\n",
      "   ---------------------- ----------------- 25.5/45.9 MB 11.3 MB/s eta 0:00:02\n",
      "   ---------------------- ----------------- 25.7/45.9 MB 11.5 MB/s eta 0:00:02\n",
      "   ----------------------- ---------------- 26.5/45.9 MB 11.5 MB/s eta 0:00:02\n",
      "   ----------------------- ---------------- 27.5/45.9 MB 12.1 MB/s eta 0:00:02\n",
      "   ------------------------ --------------- 28.3/45.9 MB 12.1 MB/s eta 0:00:02\n",
      "   ------------------------- -------------- 28.7/45.9 MB 11.7 MB/s eta 0:00:02\n",
      "   ------------------------- -------------- 29.7/45.9 MB 11.5 MB/s eta 0:00:02\n",
      "   -------------------------- ------------- 30.7/45.9 MB 12.1 MB/s eta 0:00:02\n",
      "   --------------------------- ------------ 31.5/45.9 MB 11.9 MB/s eta 0:00:02\n",
      "   ---------------------------- ----------- 32.5/45.9 MB 12.4 MB/s eta 0:00:02\n",
      "   ----------------------------- ---------- 33.5/45.9 MB 13.6 MB/s eta 0:00:01\n",
      "   ----------------------------- ---------- 34.3/45.9 MB 13.9 MB/s eta 0:00:01\n",
      "   ------------------------------- -------- 35.8/45.9 MB 15.2 MB/s eta 0:00:01\n",
      "   -------------------------------- ------- 37.6/45.9 MB 17.7 MB/s eta 0:00:01\n",
      "   --------------------------------- ------ 38.8/45.9 MB 19.3 MB/s eta 0:00:01\n",
      "   ---------------------------------- ----- 39.3/45.9 MB 19.8 MB/s eta 0:00:01\n",
      "   ----------------------------------- ---- 40.6/45.9 MB 19.9 MB/s eta 0:00:01\n",
      "   ------------------------------------ --- 41.9/45.9 MB 21.8 MB/s eta 0:00:01\n",
      "   ------------------------------------- -- 43.1/45.9 MB 21.8 MB/s eta 0:00:01\n",
      "   -------------------------------------- - 44.1/45.9 MB 22.6 MB/s eta 0:00:01\n",
      "   ---------------------------------------  45.3/45.9 MB 22.6 MB/s eta 0:00:01\n",
      "   ---------------------------------------  45.9/45.9 MB 21.8 MB/s eta 0:00:01\n",
      "   ---------------------------------------  45.9/45.9 MB 21.8 MB/s eta 0:00:01\n",
      "   ---------------------------------------  45.9/45.9 MB 21.8 MB/s eta 0:00:01\n",
      "   ---------------------------------------  45.9/45.9 MB 21.8 MB/s eta 0:00:01\n",
      "   ---------------------------------------- 45.9/45.9 MB 14.9 MB/s eta 0:00:00\n",
      "Downloading threadpoolctl-3.5.0-py3-none-any.whl (18 kB)\n",
      "Installing collected packages: threadpoolctl, scipy, joblib, scikit-learn\n",
      "Successfully installed joblib-1.4.2 scikit-learn-1.4.2 scipy-1.13.0 threadpoolctl-3.5.0\n"
     ]
    }
   ],
   "source": [
    "pip install -U scikit-learn"
   ]
  },
  {
   "cell_type": "code",
   "execution_count": null,
   "metadata": {},
   "outputs": [],
   "source": []
  },
  {
   "cell_type": "code",
   "execution_count": 4,
   "metadata": {},
   "outputs": [
    {
     "name": "stdout",
     "output_type": "stream",
     "text": [
      "Defaulting to user installation because normal site-packages is not writeable\n",
      "Collecting seaborn\n",
      "  Downloading seaborn-0.13.2-py3-none-any.whl.metadata (5.4 kB)\n",
      "Requirement already satisfied: numpy!=1.24.0,>=1.20 in c:\\users\\rafas\\appdata\\roaming\\python\\python312\\site-packages (from seaborn) (1.26.4)\n",
      "Requirement already satisfied: pandas>=1.2 in c:\\users\\rafas\\appdata\\roaming\\python\\python312\\site-packages (from seaborn) (2.2.2)\n",
      "Requirement already satisfied: matplotlib!=3.6.1,>=3.4 in c:\\users\\rafas\\appdata\\roaming\\python\\python312\\site-packages (from seaborn) (3.9.0)\n",
      "Requirement already satisfied: contourpy>=1.0.1 in c:\\users\\rafas\\appdata\\roaming\\python\\python312\\site-packages (from matplotlib!=3.6.1,>=3.4->seaborn) (1.2.1)\n",
      "Requirement already satisfied: cycler>=0.10 in c:\\users\\rafas\\appdata\\roaming\\python\\python312\\site-packages (from matplotlib!=3.6.1,>=3.4->seaborn) (0.12.1)\n",
      "Requirement already satisfied: fonttools>=4.22.0 in c:\\users\\rafas\\appdata\\roaming\\python\\python312\\site-packages (from matplotlib!=3.6.1,>=3.4->seaborn) (4.51.0)\n",
      "Requirement already satisfied: kiwisolver>=1.3.1 in c:\\users\\rafas\\appdata\\roaming\\python\\python312\\site-packages (from matplotlib!=3.6.1,>=3.4->seaborn) (1.4.5)\n",
      "Requirement already satisfied: packaging>=20.0 in c:\\users\\rafas\\appdata\\roaming\\python\\python312\\site-packages (from matplotlib!=3.6.1,>=3.4->seaborn) (24.0)\n",
      "Requirement already satisfied: pillow>=8 in c:\\users\\rafas\\appdata\\roaming\\python\\python312\\site-packages (from matplotlib!=3.6.1,>=3.4->seaborn) (10.3.0)\n",
      "Requirement already satisfied: pyparsing>=2.3.1 in c:\\users\\rafas\\appdata\\roaming\\python\\python312\\site-packages (from matplotlib!=3.6.1,>=3.4->seaborn) (3.1.2)\n",
      "Requirement already satisfied: python-dateutil>=2.7 in c:\\users\\rafas\\appdata\\roaming\\python\\python312\\site-packages (from matplotlib!=3.6.1,>=3.4->seaborn) (2.9.0.post0)\n",
      "Requirement already satisfied: pytz>=2020.1 in c:\\users\\rafas\\appdata\\roaming\\python\\python312\\site-packages (from pandas>=1.2->seaborn) (2024.1)\n",
      "Requirement already satisfied: tzdata>=2022.7 in c:\\users\\rafas\\appdata\\roaming\\python\\python312\\site-packages (from pandas>=1.2->seaborn) (2024.1)\n",
      "Requirement already satisfied: six>=1.5 in c:\\users\\rafas\\appdata\\roaming\\python\\python312\\site-packages (from python-dateutil>=2.7->matplotlib!=3.6.1,>=3.4->seaborn) (1.16.0)\n",
      "Downloading seaborn-0.13.2-py3-none-any.whl (294 kB)\n",
      "   ---------------------------------------- 0.0/294.9 kB ? eta -:--:--\n",
      "   ---------------------------------------- 294.9/294.9 kB 9.2 MB/s eta 0:00:00\n",
      "Installing collected packages: seaborn\n",
      "Successfully installed seaborn-0.13.2\n",
      "Note: you may need to restart the kernel to use updated packages.\n"
     ]
    }
   ],
   "source": [
    "pip install seaborn"
   ]
  },
  {
   "cell_type": "code",
   "execution_count": 2,
   "metadata": {},
   "outputs": [
    {
     "name": "stdout",
     "output_type": "stream",
     "text": [
      "Defaulting to user installation because normal site-packages is not writeableNote: you may need to restart the kernel to use updated packages.\n",
      "\n",
      "Collecting matplotlib\n",
      "  Downloading matplotlib-3.9.0-cp312-cp312-win_amd64.whl.metadata (11 kB)\n",
      "Collecting contourpy>=1.0.1 (from matplotlib)\n",
      "  Downloading contourpy-1.2.1-cp312-cp312-win_amd64.whl.metadata (5.8 kB)\n",
      "Collecting cycler>=0.10 (from matplotlib)\n",
      "  Downloading cycler-0.12.1-py3-none-any.whl.metadata (3.8 kB)\n",
      "Collecting fonttools>=4.22.0 (from matplotlib)\n",
      "  Downloading fonttools-4.51.0-cp312-cp312-win_amd64.whl.metadata (162 kB)\n",
      "     ---------------------------------------- 0.0/162.8 kB ? eta -:--:--\n",
      "     ----------------------------------- -- 153.6/162.8 kB 9.0 MB/s eta 0:00:01\n",
      "     -------------------------------------- 162.8/162.8 kB 2.5 MB/s eta 0:00:00\n",
      "Collecting kiwisolver>=1.3.1 (from matplotlib)\n",
      "  Downloading kiwisolver-1.4.5-cp312-cp312-win_amd64.whl.metadata (6.5 kB)\n",
      "Requirement already satisfied: numpy>=1.23 in c:\\users\\rafas\\appdata\\roaming\\python\\python312\\site-packages (from matplotlib) (1.26.4)\n",
      "Requirement already satisfied: packaging>=20.0 in c:\\users\\rafas\\appdata\\roaming\\python\\python312\\site-packages (from matplotlib) (24.0)\n",
      "Collecting pillow>=8 (from matplotlib)\n",
      "  Downloading pillow-10.3.0-cp312-cp312-win_amd64.whl.metadata (9.4 kB)\n",
      "Collecting pyparsing>=2.3.1 (from matplotlib)\n",
      "  Downloading pyparsing-3.1.2-py3-none-any.whl.metadata (5.1 kB)\n",
      "Requirement already satisfied: python-dateutil>=2.7 in c:\\users\\rafas\\appdata\\roaming\\python\\python312\\site-packages (from matplotlib) (2.9.0.post0)\n",
      "Requirement already satisfied: six>=1.5 in c:\\users\\rafas\\appdata\\roaming\\python\\python312\\site-packages (from python-dateutil>=2.7->matplotlib) (1.16.0)\n",
      "Downloading matplotlib-3.9.0-cp312-cp312-win_amd64.whl (8.0 MB)\n",
      "   ---------------------------------------- 0.0/8.0 MB ? eta -:--:--\n",
      "   ----- ---------------------------------- 1.2/8.0 MB 37.7 MB/s eta 0:00:01\n",
      "   ------------ --------------------------- 2.4/8.0 MB 25.9 MB/s eta 0:00:01\n",
      "   --------------- ------------------------ 3.1/8.0 MB 20.1 MB/s eta 0:00:01\n",
      "   ------------------ --------------------- 3.7/8.0 MB 18.2 MB/s eta 0:00:01\n",
      "   ----------------------- ---------------- 4.7/8.0 MB 17.6 MB/s eta 0:00:01\n",
      "   --------------------------- ------------ 5.4/8.0 MB 17.4 MB/s eta 0:00:01\n",
      "   ------------------------------- -------- 6.2/8.0 MB 17.2 MB/s eta 0:00:01\n",
      "   ----------------------------------- ---- 7.0/8.0 MB 16.6 MB/s eta 0:00:01\n",
      "   ---------------------------------------  8.0/8.0 MB 17.0 MB/s eta 0:00:01\n",
      "   ---------------------------------------- 8.0/8.0 MB 15.0 MB/s eta 0:00:00\n",
      "Downloading contourpy-1.2.1-cp312-cp312-win_amd64.whl (189 kB)\n",
      "   ---------------------------------------- 0.0/189.9 kB ? eta -:--:--\n",
      "   ---------------------------------------- 189.9/189.9 kB 3.8 MB/s eta 0:00:00\n",
      "Downloading cycler-0.12.1-py3-none-any.whl (8.3 kB)\n",
      "Downloading fonttools-4.51.0-cp312-cp312-win_amd64.whl (2.2 MB)\n",
      "   ---------------------------------------- 0.0/2.2 MB ? eta -:--:--\n",
      "   --------------- ------------------------ 0.8/2.2 MB 17.9 MB/s eta 0:00:01\n",
      "   ----------------------------------- ---- 1.9/2.2 MB 17.6 MB/s eta 0:00:01\n",
      "   ---------------------------------------  2.2/2.2 MB 15.4 MB/s eta 0:00:01\n",
      "   ---------------------------------------- 2.2/2.2 MB 10.7 MB/s eta 0:00:00\n",
      "Downloading kiwisolver-1.4.5-cp312-cp312-win_amd64.whl (56 kB)\n",
      "   ---------------------------------------- 0.0/56.0 kB ? eta -:--:--\n",
      "   ---------------------------------------- 56.0/56.0 kB 1.4 MB/s eta 0:00:00\n",
      "Downloading pillow-10.3.0-cp312-cp312-win_amd64.whl (2.5 MB)\n",
      "   ---------------------------------------- 0.0/2.5 MB ? eta -:--:--\n",
      "   ---------------- ----------------------- 1.1/2.5 MB 22.7 MB/s eta 0:00:01\n",
      "   ---------------------------------- ----- 2.2/2.5 MB 17.4 MB/s eta 0:00:01\n",
      "   ---------------------------------------  2.5/2.5 MB 17.9 MB/s eta 0:00:01\n",
      "   ---------------------------------------- 2.5/2.5 MB 13.4 MB/s eta 0:00:00\n",
      "Downloading pyparsing-3.1.2-py3-none-any.whl (103 kB)\n",
      "   ---------------------------------------- 0.0/103.2 kB ? eta -:--:--\n",
      "   ---------------------------------------  102.4/103.2 kB ? eta -:--:--\n",
      "   ---------------------------------------- 103.2/103.2 kB 1.2 MB/s eta 0:00:00\n",
      "Installing collected packages: pyparsing, pillow, kiwisolver, fonttools, cycler, contourpy, matplotlib\n",
      "Successfully installed contourpy-1.2.1 cycler-0.12.1 fonttools-4.51.0 kiwisolver-1.4.5 matplotlib-3.9.0 pillow-10.3.0 pyparsing-3.1.2\n"
     ]
    }
   ],
   "source": [
    "pip install matplotlib "
   ]
  },
  {
   "cell_type": "code",
   "execution_count": 17,
   "metadata": {},
   "outputs": [],
   "source": [
    "renfe = pd.read_csv(\"./renfe.csv\")"
   ]
  },
  {
   "cell_type": "markdown",
   "metadata": {},
   "source": [
    "# Reading file:"
   ]
  },
  {
   "cell_type": "code",
   "execution_count": 18,
   "metadata": {},
   "outputs": [
    {
     "name": "stdout",
     "output_type": "stream",
     "text": [
      "<class 'pandas.core.frame.DataFrame'>\n",
      "RangeIndex: 383568 entries, 0 to 383567\n",
      "Data columns (total 9 columns):\n",
      " #   Column          Non-Null Count   Dtype  \n",
      "---  ------          --------------   -----  \n",
      " 0   FECHA_CONSULTA  383568 non-null  object \n",
      " 1   FECHA_INICIO    383568 non-null  object \n",
      " 2   FECHA_FIN       383568 non-null  object \n",
      " 3   CIUDAD_ORIGEN   383568 non-null  object \n",
      " 4   CIUDAD_DESTINO  383568 non-null  object \n",
      " 5   TIPO_TREN       345211 non-null  object \n",
      " 6   TIPO_TARIFA     344009 non-null  object \n",
      " 7   CLASE           344000 non-null  object \n",
      " 8   PRECIO          355038 non-null  float64\n",
      "dtypes: float64(1), object(8)\n",
      "memory usage: 26.3+ MB\n"
     ]
    }
   ],
   "source": [
    "renfe.info()\n"
   ]
  },
  {
   "cell_type": "code",
   "execution_count": 20,
   "metadata": {},
   "outputs": [
    {
     "data": {
      "text/html": [
       "<div>\n",
       "<style scoped>\n",
       "    .dataframe tbody tr th:only-of-type {\n",
       "        vertical-align: middle;\n",
       "    }\n",
       "\n",
       "    .dataframe tbody tr th {\n",
       "        vertical-align: top;\n",
       "    }\n",
       "\n",
       "    .dataframe thead th {\n",
       "        text-align: right;\n",
       "    }\n",
       "</style>\n",
       "<table border=\"1\" class=\"dataframe\">\n",
       "  <thead>\n",
       "    <tr style=\"text-align: right;\">\n",
       "      <th></th>\n",
       "      <th>FECHA_CONSULTA</th>\n",
       "      <th>FECHA_INICIO</th>\n",
       "      <th>FECHA_FIN</th>\n",
       "      <th>CIUDAD_ORIGEN</th>\n",
       "      <th>CIUDAD_DESTINO</th>\n",
       "      <th>TIPO_TREN</th>\n",
       "      <th>TIPO_TARIFA</th>\n",
       "      <th>CLASE</th>\n",
       "      <th>PRECIO</th>\n",
       "    </tr>\n",
       "  </thead>\n",
       "  <tbody>\n",
       "    <tr>\n",
       "      <th>0</th>\n",
       "      <td>2019-05-25 01:43:03</td>\n",
       "      <td>2019-06-28 20:36:00</td>\n",
       "      <td>2019-06-28 23:14:00</td>\n",
       "      <td>SEVILLA</td>\n",
       "      <td>MADRID</td>\n",
       "      <td>ALVIA</td>\n",
       "      <td>Flexible</td>\n",
       "      <td>Turista</td>\n",
       "      <td>67.20</td>\n",
       "    </tr>\n",
       "    <tr>\n",
       "      <th>1</th>\n",
       "      <td>2019-06-22 13:05:11</td>\n",
       "      <td>2019-07-14 10:00:00</td>\n",
       "      <td>2019-07-14 13:10:00</td>\n",
       "      <td>BARCELONA</td>\n",
       "      <td>MADRID</td>\n",
       "      <td>AVE</td>\n",
       "      <td>Flexible</td>\n",
       "      <td>Turista</td>\n",
       "      <td>107.70</td>\n",
       "    </tr>\n",
       "    <tr>\n",
       "      <th>2</th>\n",
       "      <td>2019-04-17 06:24:03</td>\n",
       "      <td>2019-05-23 13:40:00</td>\n",
       "      <td>2019-05-23 16:10:00</td>\n",
       "      <td>SEVILLA</td>\n",
       "      <td>MADRID</td>\n",
       "      <td>AVE</td>\n",
       "      <td>Promo</td>\n",
       "      <td>Turista</td>\n",
       "      <td>47.30</td>\n",
       "    </tr>\n",
       "    <tr>\n",
       "      <th>3</th>\n",
       "      <td>2019-05-10 21:21:59</td>\n",
       "      <td>2019-05-29 14:50:00</td>\n",
       "      <td>2019-05-29 22:30:00</td>\n",
       "      <td>VALENCIA</td>\n",
       "      <td>MADRID</td>\n",
       "      <td>REGIONAL</td>\n",
       "      <td>Adulto ida</td>\n",
       "      <td>Turista</td>\n",
       "      <td>28.35</td>\n",
       "    </tr>\n",
       "    <tr>\n",
       "      <th>4</th>\n",
       "      <td>2019-05-09 19:43:37</td>\n",
       "      <td>2019-06-26 13:25:00</td>\n",
       "      <td>2019-06-26 16:24:00</td>\n",
       "      <td>MADRID</td>\n",
       "      <td>BARCELONA</td>\n",
       "      <td>AVE-TGV</td>\n",
       "      <td>Promo</td>\n",
       "      <td>Turista</td>\n",
       "      <td>66.75</td>\n",
       "    </tr>\n",
       "  </tbody>\n",
       "</table>\n",
       "</div>"
      ],
      "text/plain": [
       "        FECHA_CONSULTA         FECHA_INICIO            FECHA_FIN  \\\n",
       "0  2019-05-25 01:43:03  2019-06-28 20:36:00  2019-06-28 23:14:00   \n",
       "1  2019-06-22 13:05:11  2019-07-14 10:00:00  2019-07-14 13:10:00   \n",
       "2  2019-04-17 06:24:03  2019-05-23 13:40:00  2019-05-23 16:10:00   \n",
       "3  2019-05-10 21:21:59  2019-05-29 14:50:00  2019-05-29 22:30:00   \n",
       "4  2019-05-09 19:43:37  2019-06-26 13:25:00  2019-06-26 16:24:00   \n",
       "\n",
       "  CIUDAD_ORIGEN CIUDAD_DESTINO TIPO_TREN TIPO_TARIFA    CLASE  PRECIO  \n",
       "0       SEVILLA         MADRID     ALVIA    Flexible  Turista   67.20  \n",
       "1     BARCELONA         MADRID       AVE    Flexible  Turista  107.70  \n",
       "2       SEVILLA         MADRID       AVE       Promo  Turista   47.30  \n",
       "3      VALENCIA         MADRID  REGIONAL  Adulto ida  Turista   28.35  \n",
       "4        MADRID      BARCELONA   AVE-TGV       Promo  Turista   66.75  "
      ]
     },
     "execution_count": 20,
     "metadata": {},
     "output_type": "execute_result"
    }
   ],
   "source": [
    "renfe.head()"
   ]
  },
  {
   "cell_type": "markdown",
   "metadata": {},
   "source": [
    "# Checking nulls in our datasheet"
   ]
  },
  {
   "cell_type": "code",
   "execution_count": 23,
   "metadata": {},
   "outputs": [
    {
     "data": {
      "text/plain": [
       "FECHA_CONSULTA        0\n",
       "FECHA_INICIO          0\n",
       "FECHA_FIN             0\n",
       "CIUDAD_ORIGEN         0\n",
       "CIUDAD_DESTINO        0\n",
       "TIPO_TREN         38357\n",
       "TIPO_TARIFA       39559\n",
       "CLASE             39568\n",
       "PRECIO            28530\n",
       "dtype: int64"
      ]
     },
     "execution_count": 23,
     "metadata": {},
     "output_type": "execute_result"
    }
   ],
   "source": [
    "renfe.isnull().sum()"
   ]
  },
  {
   "cell_type": "code",
   "execution_count": 28,
   "metadata": {},
   "outputs": [
    {
     "data": {
      "text/plain": [
       "FECHA_CONSULTA        0\n",
       "FECHA_INICIO          0\n",
       "FECHA_FIN             0\n",
       "CIUDAD_ORIGEN         0\n",
       "CIUDAD_DESTINO        0\n",
       "TIPO_TREN         38357\n",
       "TIPO_TARIFA       39559\n",
       "CLASE             39568\n",
       "PRECIO            28530\n",
       "dtype: int64"
      ]
     },
     "execution_count": 28,
     "metadata": {},
     "output_type": "execute_result"
    }
   ],
   "source": [
    "renfe.isnull().sum()"
   ]
  },
  {
   "cell_type": "markdown",
   "metadata": {},
   "source": [
    "# Deleting rows where PRECIO is null, as PRECIO is our Target"
   ]
  },
  {
   "cell_type": "code",
   "execution_count": 33,
   "metadata": {},
   "outputs": [],
   "source": [
    "renfe2 = renfe.copy()"
   ]
  },
  {
   "cell_type": "code",
   "execution_count": 34,
   "metadata": {},
   "outputs": [],
   "source": [
    "renfe2.dropna(subset=[\"PRECIO\"], inplace=True)"
   ]
  },
  {
   "cell_type": "code",
   "execution_count": 35,
   "metadata": {},
   "outputs": [
    {
     "data": {
      "text/plain": [
       "FECHA_CONSULTA        0\n",
       "FECHA_INICIO          0\n",
       "FECHA_FIN             0\n",
       "CIUDAD_ORIGEN         0\n",
       "CIUDAD_DESTINO        0\n",
       "TIPO_TREN         35443\n",
       "TIPO_TARIFA       35453\n",
       "CLASE             35554\n",
       "PRECIO                0\n",
       "dtype: int64"
      ]
     },
     "execution_count": 35,
     "metadata": {},
     "output_type": "execute_result"
    }
   ],
   "source": [
    "renfe2.isnull().sum()"
   ]
  },
  {
   "cell_type": "markdown",
   "metadata": {},
   "source": [
    "# will decide what to do with rest of nulls later on\n",
    "# Now we´ll check duplicates and will delete them"
   ]
  },
  {
   "cell_type": "code",
   "execution_count": 36,
   "metadata": {},
   "outputs": [
    {
     "data": {
      "text/plain": [
       "10"
      ]
     },
     "execution_count": 36,
     "metadata": {},
     "output_type": "execute_result"
    }
   ],
   "source": [
    "renfe2.duplicated().sum()"
   ]
  },
  {
   "cell_type": "code",
   "execution_count": 37,
   "metadata": {},
   "outputs": [
    {
     "data": {
      "text/plain": [
       "False    355028\n",
       "True         10\n",
       "Name: count, dtype: int64"
      ]
     },
     "execution_count": 37,
     "metadata": {},
     "output_type": "execute_result"
    }
   ],
   "source": [
    "renfe2.duplicated().value_counts()"
   ]
  },
  {
   "cell_type": "code",
   "execution_count": 38,
   "metadata": {},
   "outputs": [
    {
     "data": {
      "text/html": [
       "<div>\n",
       "<style scoped>\n",
       "    .dataframe tbody tr th:only-of-type {\n",
       "        vertical-align: middle;\n",
       "    }\n",
       "\n",
       "    .dataframe tbody tr th {\n",
       "        vertical-align: top;\n",
       "    }\n",
       "\n",
       "    .dataframe thead th {\n",
       "        text-align: right;\n",
       "    }\n",
       "</style>\n",
       "<table border=\"1\" class=\"dataframe\">\n",
       "  <thead>\n",
       "    <tr style=\"text-align: right;\">\n",
       "      <th></th>\n",
       "      <th>FECHA_CONSULTA</th>\n",
       "      <th>FECHA_INICIO</th>\n",
       "      <th>FECHA_FIN</th>\n",
       "      <th>CIUDAD_ORIGEN</th>\n",
       "      <th>CIUDAD_DESTINO</th>\n",
       "      <th>TIPO_TREN</th>\n",
       "      <th>TIPO_TARIFA</th>\n",
       "      <th>CLASE</th>\n",
       "      <th>PRECIO</th>\n",
       "    </tr>\n",
       "  </thead>\n",
       "  <tbody>\n",
       "    <tr>\n",
       "      <th>8530</th>\n",
       "      <td>2019-06-10 01:10:54</td>\n",
       "      <td>2019-07-07 21:03:00</td>\n",
       "      <td>2019-07-07 23:28:00</td>\n",
       "      <td>VALENCIA</td>\n",
       "      <td>MADRID</td>\n",
       "      <td>INTERCITY</td>\n",
       "      <td>Promo</td>\n",
       "      <td>Turista</td>\n",
       "      <td>43.75</td>\n",
       "    </tr>\n",
       "    <tr>\n",
       "      <th>14256</th>\n",
       "      <td>2019-05-03 05:33:32</td>\n",
       "      <td>2019-05-24 15:10:00</td>\n",
       "      <td>2019-05-24 17:20:00</td>\n",
       "      <td>MADRID</td>\n",
       "      <td>VALENCIA</td>\n",
       "      <td>INTERCITY</td>\n",
       "      <td>Promo</td>\n",
       "      <td>Turista</td>\n",
       "      <td>43.75</td>\n",
       "    </tr>\n",
       "    <tr>\n",
       "      <th>35335</th>\n",
       "      <td>2019-04-30 09:09:51</td>\n",
       "      <td>2019-05-19 17:30:00</td>\n",
       "      <td>2019-05-19 19:43:00</td>\n",
       "      <td>VALENCIA</td>\n",
       "      <td>MADRID</td>\n",
       "      <td>INTERCITY</td>\n",
       "      <td>Flexible</td>\n",
       "      <td>Turista</td>\n",
       "      <td>55.40</td>\n",
       "    </tr>\n",
       "    <tr>\n",
       "      <th>82429</th>\n",
       "      <td>2019-04-30 09:09:51</td>\n",
       "      <td>2019-05-19 17:30:00</td>\n",
       "      <td>2019-05-19 19:43:00</td>\n",
       "      <td>VALENCIA</td>\n",
       "      <td>MADRID</td>\n",
       "      <td>INTERCITY</td>\n",
       "      <td>Flexible</td>\n",
       "      <td>Turista</td>\n",
       "      <td>55.40</td>\n",
       "    </tr>\n",
       "    <tr>\n",
       "      <th>84721</th>\n",
       "      <td>2019-06-19 23:28:29</td>\n",
       "      <td>2019-06-23 21:03:00</td>\n",
       "      <td>2019-06-23 23:28:00</td>\n",
       "      <td>VALENCIA</td>\n",
       "      <td>MADRID</td>\n",
       "      <td>INTERCITY</td>\n",
       "      <td>Flexible</td>\n",
       "      <td>TuristaSólo plaza H</td>\n",
       "      <td>55.40</td>\n",
       "    </tr>\n",
       "    <tr>\n",
       "      <th>95146</th>\n",
       "      <td>2019-06-12 11:51:44</td>\n",
       "      <td>2019-06-16 17:30:00</td>\n",
       "      <td>2019-06-16 19:43:00</td>\n",
       "      <td>VALENCIA</td>\n",
       "      <td>MADRID</td>\n",
       "      <td>INTERCITY</td>\n",
       "      <td>Flexible</td>\n",
       "      <td>TuristaSólo plaza H</td>\n",
       "      <td>55.40</td>\n",
       "    </tr>\n",
       "    <tr>\n",
       "      <th>100880</th>\n",
       "      <td>2019-04-21 08:08:16</td>\n",
       "      <td>2019-04-28 17:30:00</td>\n",
       "      <td>2019-04-28 19:43:00</td>\n",
       "      <td>VALENCIA</td>\n",
       "      <td>MADRID</td>\n",
       "      <td>INTERCITY</td>\n",
       "      <td>Flexible</td>\n",
       "      <td>Turista</td>\n",
       "      <td>55.40</td>\n",
       "    </tr>\n",
       "    <tr>\n",
       "      <th>107458</th>\n",
       "      <td>2019-06-12 11:51:44</td>\n",
       "      <td>2019-06-16 17:30:00</td>\n",
       "      <td>2019-06-16 19:43:00</td>\n",
       "      <td>VALENCIA</td>\n",
       "      <td>MADRID</td>\n",
       "      <td>INTERCITY</td>\n",
       "      <td>Flexible</td>\n",
       "      <td>TuristaSólo plaza H</td>\n",
       "      <td>55.40</td>\n",
       "    </tr>\n",
       "    <tr>\n",
       "      <th>116386</th>\n",
       "      <td>2019-06-17 21:00:29</td>\n",
       "      <td>2019-06-23 21:03:00</td>\n",
       "      <td>2019-06-23 23:28:00</td>\n",
       "      <td>VALENCIA</td>\n",
       "      <td>MADRID</td>\n",
       "      <td>INTERCITY</td>\n",
       "      <td>Flexible</td>\n",
       "      <td>TuristaSólo plaza H</td>\n",
       "      <td>55.40</td>\n",
       "    </tr>\n",
       "    <tr>\n",
       "      <th>139581</th>\n",
       "      <td>2019-08-18 17:34:03</td>\n",
       "      <td>2019-08-23 21:03:00</td>\n",
       "      <td>2019-08-23 23:28:00</td>\n",
       "      <td>VALENCIA</td>\n",
       "      <td>MADRID</td>\n",
       "      <td>INTERCITY</td>\n",
       "      <td>Flexible</td>\n",
       "      <td>Turista</td>\n",
       "      <td>55.40</td>\n",
       "    </tr>\n",
       "    <tr>\n",
       "      <th>191339</th>\n",
       "      <td>2019-08-18 17:34:03</td>\n",
       "      <td>2019-08-23 21:03:00</td>\n",
       "      <td>2019-08-23 23:28:00</td>\n",
       "      <td>VALENCIA</td>\n",
       "      <td>MADRID</td>\n",
       "      <td>INTERCITY</td>\n",
       "      <td>Flexible</td>\n",
       "      <td>Turista</td>\n",
       "      <td>55.40</td>\n",
       "    </tr>\n",
       "    <tr>\n",
       "      <th>256887</th>\n",
       "      <td>2019-06-10 01:10:54</td>\n",
       "      <td>2019-07-07 21:03:00</td>\n",
       "      <td>2019-07-07 23:28:00</td>\n",
       "      <td>VALENCIA</td>\n",
       "      <td>MADRID</td>\n",
       "      <td>INTERCITY</td>\n",
       "      <td>Promo</td>\n",
       "      <td>Turista</td>\n",
       "      <td>43.75</td>\n",
       "    </tr>\n",
       "    <tr>\n",
       "      <th>263942</th>\n",
       "      <td>2019-04-21 08:08:16</td>\n",
       "      <td>2019-04-28 17:30:00</td>\n",
       "      <td>2019-04-28 19:43:00</td>\n",
       "      <td>VALENCIA</td>\n",
       "      <td>MADRID</td>\n",
       "      <td>INTERCITY</td>\n",
       "      <td>Flexible</td>\n",
       "      <td>Turista</td>\n",
       "      <td>55.40</td>\n",
       "    </tr>\n",
       "    <tr>\n",
       "      <th>274827</th>\n",
       "      <td>2019-06-17 21:00:29</td>\n",
       "      <td>2019-06-23 21:03:00</td>\n",
       "      <td>2019-06-23 23:28:00</td>\n",
       "      <td>VALENCIA</td>\n",
       "      <td>MADRID</td>\n",
       "      <td>INTERCITY</td>\n",
       "      <td>Flexible</td>\n",
       "      <td>TuristaSólo plaza H</td>\n",
       "      <td>55.40</td>\n",
       "    </tr>\n",
       "    <tr>\n",
       "      <th>278062</th>\n",
       "      <td>2019-04-27 17:08:49</td>\n",
       "      <td>2019-05-26 17:30:00</td>\n",
       "      <td>2019-05-26 19:43:00</td>\n",
       "      <td>VALENCIA</td>\n",
       "      <td>MADRID</td>\n",
       "      <td>INTERCITY</td>\n",
       "      <td>Promo</td>\n",
       "      <td>Turista</td>\n",
       "      <td>43.75</td>\n",
       "    </tr>\n",
       "    <tr>\n",
       "      <th>279458</th>\n",
       "      <td>2019-04-27 17:08:49</td>\n",
       "      <td>2019-05-26 17:30:00</td>\n",
       "      <td>2019-05-26 19:43:00</td>\n",
       "      <td>VALENCIA</td>\n",
       "      <td>MADRID</td>\n",
       "      <td>INTERCITY</td>\n",
       "      <td>Promo</td>\n",
       "      <td>Turista</td>\n",
       "      <td>43.75</td>\n",
       "    </tr>\n",
       "    <tr>\n",
       "      <th>307296</th>\n",
       "      <td>2019-06-19 23:28:29</td>\n",
       "      <td>2019-06-23 21:03:00</td>\n",
       "      <td>2019-06-23 23:28:00</td>\n",
       "      <td>VALENCIA</td>\n",
       "      <td>MADRID</td>\n",
       "      <td>INTERCITY</td>\n",
       "      <td>Flexible</td>\n",
       "      <td>TuristaSólo plaza H</td>\n",
       "      <td>55.40</td>\n",
       "    </tr>\n",
       "    <tr>\n",
       "      <th>321610</th>\n",
       "      <td>2019-05-03 15:18:26</td>\n",
       "      <td>2019-05-24 15:10:00</td>\n",
       "      <td>2019-05-24 17:20:00</td>\n",
       "      <td>MADRID</td>\n",
       "      <td>VALENCIA</td>\n",
       "      <td>INTERCITY</td>\n",
       "      <td>Promo</td>\n",
       "      <td>Turista</td>\n",
       "      <td>43.75</td>\n",
       "    </tr>\n",
       "    <tr>\n",
       "      <th>352451</th>\n",
       "      <td>2019-05-03 05:33:32</td>\n",
       "      <td>2019-05-24 15:10:00</td>\n",
       "      <td>2019-05-24 17:20:00</td>\n",
       "      <td>MADRID</td>\n",
       "      <td>VALENCIA</td>\n",
       "      <td>INTERCITY</td>\n",
       "      <td>Promo</td>\n",
       "      <td>Turista</td>\n",
       "      <td>43.75</td>\n",
       "    </tr>\n",
       "    <tr>\n",
       "      <th>356200</th>\n",
       "      <td>2019-05-03 15:18:26</td>\n",
       "      <td>2019-05-24 15:10:00</td>\n",
       "      <td>2019-05-24 17:20:00</td>\n",
       "      <td>MADRID</td>\n",
       "      <td>VALENCIA</td>\n",
       "      <td>INTERCITY</td>\n",
       "      <td>Promo</td>\n",
       "      <td>Turista</td>\n",
       "      <td>43.75</td>\n",
       "    </tr>\n",
       "  </tbody>\n",
       "</table>\n",
       "</div>"
      ],
      "text/plain": [
       "             FECHA_CONSULTA         FECHA_INICIO            FECHA_FIN  \\\n",
       "8530    2019-06-10 01:10:54  2019-07-07 21:03:00  2019-07-07 23:28:00   \n",
       "14256   2019-05-03 05:33:32  2019-05-24 15:10:00  2019-05-24 17:20:00   \n",
       "35335   2019-04-30 09:09:51  2019-05-19 17:30:00  2019-05-19 19:43:00   \n",
       "82429   2019-04-30 09:09:51  2019-05-19 17:30:00  2019-05-19 19:43:00   \n",
       "84721   2019-06-19 23:28:29  2019-06-23 21:03:00  2019-06-23 23:28:00   \n",
       "95146   2019-06-12 11:51:44  2019-06-16 17:30:00  2019-06-16 19:43:00   \n",
       "100880  2019-04-21 08:08:16  2019-04-28 17:30:00  2019-04-28 19:43:00   \n",
       "107458  2019-06-12 11:51:44  2019-06-16 17:30:00  2019-06-16 19:43:00   \n",
       "116386  2019-06-17 21:00:29  2019-06-23 21:03:00  2019-06-23 23:28:00   \n",
       "139581  2019-08-18 17:34:03  2019-08-23 21:03:00  2019-08-23 23:28:00   \n",
       "191339  2019-08-18 17:34:03  2019-08-23 21:03:00  2019-08-23 23:28:00   \n",
       "256887  2019-06-10 01:10:54  2019-07-07 21:03:00  2019-07-07 23:28:00   \n",
       "263942  2019-04-21 08:08:16  2019-04-28 17:30:00  2019-04-28 19:43:00   \n",
       "274827  2019-06-17 21:00:29  2019-06-23 21:03:00  2019-06-23 23:28:00   \n",
       "278062  2019-04-27 17:08:49  2019-05-26 17:30:00  2019-05-26 19:43:00   \n",
       "279458  2019-04-27 17:08:49  2019-05-26 17:30:00  2019-05-26 19:43:00   \n",
       "307296  2019-06-19 23:28:29  2019-06-23 21:03:00  2019-06-23 23:28:00   \n",
       "321610  2019-05-03 15:18:26  2019-05-24 15:10:00  2019-05-24 17:20:00   \n",
       "352451  2019-05-03 05:33:32  2019-05-24 15:10:00  2019-05-24 17:20:00   \n",
       "356200  2019-05-03 15:18:26  2019-05-24 15:10:00  2019-05-24 17:20:00   \n",
       "\n",
       "       CIUDAD_ORIGEN CIUDAD_DESTINO  TIPO_TREN TIPO_TARIFA  \\\n",
       "8530        VALENCIA         MADRID  INTERCITY       Promo   \n",
       "14256         MADRID       VALENCIA  INTERCITY       Promo   \n",
       "35335       VALENCIA         MADRID  INTERCITY    Flexible   \n",
       "82429       VALENCIA         MADRID  INTERCITY    Flexible   \n",
       "84721       VALENCIA         MADRID  INTERCITY    Flexible   \n",
       "95146       VALENCIA         MADRID  INTERCITY    Flexible   \n",
       "100880      VALENCIA         MADRID  INTERCITY    Flexible   \n",
       "107458      VALENCIA         MADRID  INTERCITY    Flexible   \n",
       "116386      VALENCIA         MADRID  INTERCITY    Flexible   \n",
       "139581      VALENCIA         MADRID  INTERCITY    Flexible   \n",
       "191339      VALENCIA         MADRID  INTERCITY    Flexible   \n",
       "256887      VALENCIA         MADRID  INTERCITY       Promo   \n",
       "263942      VALENCIA         MADRID  INTERCITY    Flexible   \n",
       "274827      VALENCIA         MADRID  INTERCITY    Flexible   \n",
       "278062      VALENCIA         MADRID  INTERCITY       Promo   \n",
       "279458      VALENCIA         MADRID  INTERCITY       Promo   \n",
       "307296      VALENCIA         MADRID  INTERCITY    Flexible   \n",
       "321610        MADRID       VALENCIA  INTERCITY       Promo   \n",
       "352451        MADRID       VALENCIA  INTERCITY       Promo   \n",
       "356200        MADRID       VALENCIA  INTERCITY       Promo   \n",
       "\n",
       "                      CLASE  PRECIO  \n",
       "8530                Turista   43.75  \n",
       "14256               Turista   43.75  \n",
       "35335               Turista   55.40  \n",
       "82429               Turista   55.40  \n",
       "84721   TuristaSólo plaza H   55.40  \n",
       "95146   TuristaSólo plaza H   55.40  \n",
       "100880              Turista   55.40  \n",
       "107458  TuristaSólo plaza H   55.40  \n",
       "116386  TuristaSólo plaza H   55.40  \n",
       "139581              Turista   55.40  \n",
       "191339              Turista   55.40  \n",
       "256887              Turista   43.75  \n",
       "263942              Turista   55.40  \n",
       "274827  TuristaSólo plaza H   55.40  \n",
       "278062              Turista   43.75  \n",
       "279458              Turista   43.75  \n",
       "307296  TuristaSólo plaza H   55.40  \n",
       "321610              Turista   43.75  \n",
       "352451              Turista   43.75  \n",
       "356200              Turista   43.75  "
      ]
     },
     "execution_count": 38,
     "metadata": {},
     "output_type": "execute_result"
    }
   ],
   "source": [
    "renfe2[renfe2.duplicated(keep=False)]"
   ]
  },
  {
   "cell_type": "code",
   "execution_count": 40,
   "metadata": {},
   "outputs": [],
   "source": [
    "renfe2.drop_duplicates(inplace = True)"
   ]
  },
  {
   "cell_type": "code",
   "execution_count": 42,
   "metadata": {},
   "outputs": [
    {
     "data": {
      "text/html": [
       "<div>\n",
       "<style scoped>\n",
       "    .dataframe tbody tr th:only-of-type {\n",
       "        vertical-align: middle;\n",
       "    }\n",
       "\n",
       "    .dataframe tbody tr th {\n",
       "        vertical-align: top;\n",
       "    }\n",
       "\n",
       "    .dataframe thead th {\n",
       "        text-align: right;\n",
       "    }\n",
       "</style>\n",
       "<table border=\"1\" class=\"dataframe\">\n",
       "  <thead>\n",
       "    <tr style=\"text-align: right;\">\n",
       "      <th></th>\n",
       "      <th>FECHA_CONSULTA</th>\n",
       "      <th>FECHA_INICIO</th>\n",
       "      <th>FECHA_FIN</th>\n",
       "      <th>CIUDAD_ORIGEN</th>\n",
       "      <th>CIUDAD_DESTINO</th>\n",
       "      <th>TIPO_TREN</th>\n",
       "      <th>TIPO_TARIFA</th>\n",
       "      <th>CLASE</th>\n",
       "      <th>PRECIO</th>\n",
       "    </tr>\n",
       "  </thead>\n",
       "  <tbody>\n",
       "  </tbody>\n",
       "</table>\n",
       "</div>"
      ],
      "text/plain": [
       "Empty DataFrame\n",
       "Columns: [FECHA_CONSULTA, FECHA_INICIO, FECHA_FIN, CIUDAD_ORIGEN, CIUDAD_DESTINO, TIPO_TREN, TIPO_TARIFA, CLASE, PRECIO]\n",
       "Index: []"
      ]
     },
     "execution_count": 42,
     "metadata": {},
     "output_type": "execute_result"
    }
   ],
   "source": [
    "renfe2[renfe2.duplicated(keep=False)]"
   ]
  },
  {
   "cell_type": "code",
   "execution_count": 43,
   "metadata": {},
   "outputs": [
    {
     "name": "stdout",
     "output_type": "stream",
     "text": [
      "<class 'pandas.core.frame.DataFrame'>\n",
      "Index: 355028 entries, 0 to 383567\n",
      "Data columns (total 9 columns):\n",
      " #   Column          Non-Null Count   Dtype  \n",
      "---  ------          --------------   -----  \n",
      " 0   FECHA_CONSULTA  355028 non-null  object \n",
      " 1   FECHA_INICIO    355028 non-null  object \n",
      " 2   FECHA_FIN       355028 non-null  object \n",
      " 3   CIUDAD_ORIGEN   355028 non-null  object \n",
      " 4   CIUDAD_DESTINO  355028 non-null  object \n",
      " 5   TIPO_TREN       319585 non-null  object \n",
      " 6   TIPO_TARIFA     319575 non-null  object \n",
      " 7   CLASE           319474 non-null  object \n",
      " 8   PRECIO          355028 non-null  float64\n",
      "dtypes: float64(1), object(8)\n",
      "memory usage: 27.1+ MB\n"
     ]
    }
   ],
   "source": [
    "renfe2.info()"
   ]
  },
  {
   "cell_type": "code",
   "execution_count": 44,
   "metadata": {},
   "outputs": [],
   "source": [
    "renfe2.reset_index(inplace=True, drop= True)"
   ]
  },
  {
   "cell_type": "code",
   "execution_count": 45,
   "metadata": {},
   "outputs": [
    {
     "name": "stdout",
     "output_type": "stream",
     "text": [
      "<class 'pandas.core.frame.DataFrame'>\n",
      "RangeIndex: 355028 entries, 0 to 355027\n",
      "Data columns (total 9 columns):\n",
      " #   Column          Non-Null Count   Dtype  \n",
      "---  ------          --------------   -----  \n",
      " 0   FECHA_CONSULTA  355028 non-null  object \n",
      " 1   FECHA_INICIO    355028 non-null  object \n",
      " 2   FECHA_FIN       355028 non-null  object \n",
      " 3   CIUDAD_ORIGEN   355028 non-null  object \n",
      " 4   CIUDAD_DESTINO  355028 non-null  object \n",
      " 5   TIPO_TREN       319585 non-null  object \n",
      " 6   TIPO_TARIFA     319575 non-null  object \n",
      " 7   CLASE           319474 non-null  object \n",
      " 8   PRECIO          355028 non-null  float64\n",
      "dtypes: float64(1), object(8)\n",
      "memory usage: 24.4+ MB\n"
     ]
    }
   ],
   "source": [
    "renfe2.info()"
   ]
  },
  {
   "cell_type": "markdown",
   "metadata": {},
   "source": [
    "# Duplicated already removed\n",
    "# rows with Null in PRECIO removed\n",
    "# index reseted\n"
   ]
  },
  {
   "cell_type": "code",
   "execution_count": 46,
   "metadata": {},
   "outputs": [],
   "source": [
    "renfe3 = renfe2.copy()"
   ]
  },
  {
   "cell_type": "code",
   "execution_count": 47,
   "metadata": {},
   "outputs": [
    {
     "data": {
      "text/plain": [
       "FECHA_CONSULTA  FECHA_INICIO  FECHA_FIN  CIUDAD_ORIGEN  CIUDAD_DESTINO  TIPO_TREN  TIPO_TARIFA  CLASE  PRECIO\n",
       "False           False         False      False          False           False      False        False  False     259053\n",
       "                                                                                                True   False      28659\n",
       "                                                                        True       False        False  False      28645\n",
       "                                                                        False      True         False  False      28551\n",
       "                                                                                                True   False       3322\n",
       "                                                                        True       True         False  False       3225\n",
       "                                                                                   False        True   False       3218\n",
       "                                                                                   True         True   False        355\n",
       "Name: count, dtype: int64"
      ]
     },
     "execution_count": 47,
     "metadata": {},
     "output_type": "execute_result"
    }
   ],
   "source": [
    "renfe3.isnull().value_counts()"
   ]
  },
  {
   "cell_type": "markdown",
   "metadata": {},
   "source": [
    "# in order to eliminate nulls, will asign them some values in every column. so that\n",
    "# TIPO_TARIFA NULLs will be \"desconocida\"\n",
    "# TIPO_TREN NULLs will be \"sin_tipo\"\n",
    "# CLASE NULLs will be \"desconocida\"\n"
   ]
  },
  {
   "cell_type": "code",
   "execution_count": 49,
   "metadata": {},
   "outputs": [
    {
     "name": "stderr",
     "output_type": "stream",
     "text": [
      "C:\\Users\\rafas\\AppData\\Local\\Temp\\ipykernel_11532\\2025814111.py:1: FutureWarning: A value is trying to be set on a copy of a DataFrame or Series through chained assignment using an inplace method.\n",
      "The behavior will change in pandas 3.0. This inplace method will never work because the intermediate object on which we are setting values always behaves as a copy.\n",
      "\n",
      "For example, when doing 'df[col].method(value, inplace=True)', try using 'df.method({col: value}, inplace=True)' or df[col] = df[col].method(value) instead, to perform the operation inplace on the original object.\n",
      "\n",
      "\n",
      "  renfe3[\"TIPO_TARIFA\"].fillna(\"desconocida\", inplace = True)\n",
      "C:\\Users\\rafas\\AppData\\Local\\Temp\\ipykernel_11532\\2025814111.py:2: FutureWarning: A value is trying to be set on a copy of a DataFrame or Series through chained assignment using an inplace method.\n",
      "The behavior will change in pandas 3.0. This inplace method will never work because the intermediate object on which we are setting values always behaves as a copy.\n",
      "\n",
      "For example, when doing 'df[col].method(value, inplace=True)', try using 'df.method({col: value}, inplace=True)' or df[col] = df[col].method(value) instead, to perform the operation inplace on the original object.\n",
      "\n",
      "\n",
      "  renfe3[\"TIPO_TREN\"].fillna(\"sin_tipo\", inplace = True)\n",
      "C:\\Users\\rafas\\AppData\\Local\\Temp\\ipykernel_11532\\2025814111.py:3: FutureWarning: A value is trying to be set on a copy of a DataFrame or Series through chained assignment using an inplace method.\n",
      "The behavior will change in pandas 3.0. This inplace method will never work because the intermediate object on which we are setting values always behaves as a copy.\n",
      "\n",
      "For example, when doing 'df[col].method(value, inplace=True)', try using 'df.method({col: value}, inplace=True)' or df[col] = df[col].method(value) instead, to perform the operation inplace on the original object.\n",
      "\n",
      "\n",
      "  renfe3[\"CLASE\"].fillna(\"desconocida\", inplace = True)\n"
     ]
    }
   ],
   "source": [
    "renfe3[\"TIPO_TARIFA\"].fillna(\"desconocida\", inplace = True)\n",
    "renfe3[\"TIPO_TREN\"].fillna(\"sin_tipo\", inplace = True)\n",
    "renfe3[\"CLASE\"].fillna(\"desconocida\", inplace = True)"
   ]
  },
  {
   "cell_type": "code",
   "execution_count": 50,
   "metadata": {},
   "outputs": [
    {
     "data": {
      "text/plain": [
       "FECHA_CONSULTA    0\n",
       "FECHA_INICIO      0\n",
       "FECHA_FIN         0\n",
       "CIUDAD_ORIGEN     0\n",
       "CIUDAD_DESTINO    0\n",
       "TIPO_TREN         0\n",
       "TIPO_TARIFA       0\n",
       "CLASE             0\n",
       "PRECIO            0\n",
       "dtype: int64"
      ]
     },
     "execution_count": 50,
     "metadata": {},
     "output_type": "execute_result"
    }
   ],
   "source": [
    "renfe3.isnull().sum()"
   ]
  },
  {
   "cell_type": "code",
   "execution_count": 63,
   "metadata": {},
   "outputs": [],
   "source": [
    "renfe4 = renfe3.copy()"
   ]
  },
  {
   "cell_type": "code",
   "execution_count": 64,
   "metadata": {},
   "outputs": [
    {
     "name": "stdout",
     "output_type": "stream",
     "text": [
      "<class 'pandas.core.frame.DataFrame'>\n",
      "RangeIndex: 355028 entries, 0 to 355027\n",
      "Data columns (total 9 columns):\n",
      " #   Column          Non-Null Count   Dtype  \n",
      "---  ------          --------------   -----  \n",
      " 0   FECHA_CONSULTA  355028 non-null  object \n",
      " 1   FECHA_INICIO    355028 non-null  object \n",
      " 2   FECHA_FIN       355028 non-null  object \n",
      " 3   CIUDAD_ORIGEN   355028 non-null  object \n",
      " 4   CIUDAD_DESTINO  355028 non-null  object \n",
      " 5   TIPO_TREN       355028 non-null  object \n",
      " 6   TIPO_TARIFA     355028 non-null  object \n",
      " 7   CLASE           355028 non-null  object \n",
      " 8   PRECIO          355028 non-null  float64\n",
      "dtypes: float64(1), object(8)\n",
      "memory usage: 24.4+ MB\n"
     ]
    }
   ],
   "source": [
    "renfe4.info()"
   ]
  },
  {
   "cell_type": "markdown",
   "metadata": {},
   "source": [
    "# we create a new column named : DAYS_TO_TRIP \n",
    "# we create a new column named : JOURNEY_TIME \n",
    "# we need first at all, to change  \"FECHA_CONSULTA\" and \"FECHA_INICIO\" and \"FECHA_FIN\" to datetime format"
   ]
  },
  {
   "cell_type": "code",
   "execution_count": 65,
   "metadata": {},
   "outputs": [],
   "source": [
    "renfe4[\"FECHA_INICIO\"]=pd.to_datetime(renfe4[\"FECHA_INICIO\"])\n",
    "renfe4[\"FECHA_FIN\"]=pd.to_datetime(renfe4[\"FECHA_FIN\"])\n",
    "renfe4[\"FECHA_CONSULTA\"]=pd.to_datetime(renfe4[\"FECHA_CONSULTA\"])"
   ]
  },
  {
   "cell_type": "code",
   "execution_count": 66,
   "metadata": {},
   "outputs": [],
   "source": [
    "renfe4[\"DAYS_TO_TRIP\"]= (renfe4[\"FECHA_INICIO\"]-renfe4[\"FECHA_CONSULTA\"])/np.timedelta64(1440,'m')"
   ]
  },
  {
   "cell_type": "code",
   "execution_count": 69,
   "metadata": {},
   "outputs": [
    {
     "data": {
      "text/html": [
       "<div>\n",
       "<style scoped>\n",
       "    .dataframe tbody tr th:only-of-type {\n",
       "        vertical-align: middle;\n",
       "    }\n",
       "\n",
       "    .dataframe tbody tr th {\n",
       "        vertical-align: top;\n",
       "    }\n",
       "\n",
       "    .dataframe thead th {\n",
       "        text-align: right;\n",
       "    }\n",
       "</style>\n",
       "<table border=\"1\" class=\"dataframe\">\n",
       "  <thead>\n",
       "    <tr style=\"text-align: right;\">\n",
       "      <th></th>\n",
       "      <th>FECHA_CONSULTA</th>\n",
       "      <th>FECHA_INICIO</th>\n",
       "      <th>FECHA_FIN</th>\n",
       "      <th>CIUDAD_ORIGEN</th>\n",
       "      <th>CIUDAD_DESTINO</th>\n",
       "      <th>TIPO_TREN</th>\n",
       "      <th>TIPO_TARIFA</th>\n",
       "      <th>CLASE</th>\n",
       "      <th>PRECIO</th>\n",
       "      <th>DAYS_TO_TRIP</th>\n",
       "    </tr>\n",
       "  </thead>\n",
       "  <tbody>\n",
       "    <tr>\n",
       "      <th>0</th>\n",
       "      <td>2019-05-25 01:43:03</td>\n",
       "      <td>2019-06-28 20:36:00</td>\n",
       "      <td>2019-06-28 23:14:00</td>\n",
       "      <td>SEVILLA</td>\n",
       "      <td>MADRID</td>\n",
       "      <td>ALVIA</td>\n",
       "      <td>Flexible</td>\n",
       "      <td>Turista</td>\n",
       "      <td>67.20</td>\n",
       "      <td>34.79</td>\n",
       "    </tr>\n",
       "    <tr>\n",
       "      <th>1</th>\n",
       "      <td>2019-06-22 13:05:11</td>\n",
       "      <td>2019-07-14 10:00:00</td>\n",
       "      <td>2019-07-14 13:10:00</td>\n",
       "      <td>BARCELONA</td>\n",
       "      <td>MADRID</td>\n",
       "      <td>AVE</td>\n",
       "      <td>Flexible</td>\n",
       "      <td>Turista</td>\n",
       "      <td>107.70</td>\n",
       "      <td>21.87</td>\n",
       "    </tr>\n",
       "    <tr>\n",
       "      <th>2</th>\n",
       "      <td>2019-04-17 06:24:03</td>\n",
       "      <td>2019-05-23 13:40:00</td>\n",
       "      <td>2019-05-23 16:10:00</td>\n",
       "      <td>SEVILLA</td>\n",
       "      <td>MADRID</td>\n",
       "      <td>AVE</td>\n",
       "      <td>Promo</td>\n",
       "      <td>Turista</td>\n",
       "      <td>47.30</td>\n",
       "      <td>36.30</td>\n",
       "    </tr>\n",
       "    <tr>\n",
       "      <th>3</th>\n",
       "      <td>2019-05-10 21:21:59</td>\n",
       "      <td>2019-05-29 14:50:00</td>\n",
       "      <td>2019-05-29 22:30:00</td>\n",
       "      <td>VALENCIA</td>\n",
       "      <td>MADRID</td>\n",
       "      <td>REGIONAL</td>\n",
       "      <td>Adulto ida</td>\n",
       "      <td>Turista</td>\n",
       "      <td>28.35</td>\n",
       "      <td>18.73</td>\n",
       "    </tr>\n",
       "    <tr>\n",
       "      <th>4</th>\n",
       "      <td>2019-05-09 19:43:37</td>\n",
       "      <td>2019-06-26 13:25:00</td>\n",
       "      <td>2019-06-26 16:24:00</td>\n",
       "      <td>MADRID</td>\n",
       "      <td>BARCELONA</td>\n",
       "      <td>AVE-TGV</td>\n",
       "      <td>Promo</td>\n",
       "      <td>Turista</td>\n",
       "      <td>66.75</td>\n",
       "      <td>47.74</td>\n",
       "    </tr>\n",
       "  </tbody>\n",
       "</table>\n",
       "</div>"
      ],
      "text/plain": [
       "       FECHA_CONSULTA        FECHA_INICIO           FECHA_FIN CIUDAD_ORIGEN  \\\n",
       "0 2019-05-25 01:43:03 2019-06-28 20:36:00 2019-06-28 23:14:00       SEVILLA   \n",
       "1 2019-06-22 13:05:11 2019-07-14 10:00:00 2019-07-14 13:10:00     BARCELONA   \n",
       "2 2019-04-17 06:24:03 2019-05-23 13:40:00 2019-05-23 16:10:00       SEVILLA   \n",
       "3 2019-05-10 21:21:59 2019-05-29 14:50:00 2019-05-29 22:30:00      VALENCIA   \n",
       "4 2019-05-09 19:43:37 2019-06-26 13:25:00 2019-06-26 16:24:00        MADRID   \n",
       "\n",
       "  CIUDAD_DESTINO TIPO_TREN TIPO_TARIFA    CLASE  PRECIO  DAYS_TO_TRIP  \n",
       "0         MADRID     ALVIA    Flexible  Turista   67.20         34.79  \n",
       "1         MADRID       AVE    Flexible  Turista  107.70         21.87  \n",
       "2         MADRID       AVE       Promo  Turista   47.30         36.30  \n",
       "3         MADRID  REGIONAL  Adulto ida  Turista   28.35         18.73  \n",
       "4      BARCELONA   AVE-TGV       Promo  Turista   66.75         47.74  "
      ]
     },
     "execution_count": 69,
     "metadata": {},
     "output_type": "execute_result"
    }
   ],
   "source": [
    "renfe4.head()"
   ]
  },
  {
   "cell_type": "code",
   "execution_count": 68,
   "metadata": {},
   "outputs": [],
   "source": [
    "renfe4[\"DAYS_TO_TRIP\"] = renfe4[\"DAYS_TO_TRIP\"].round(2)"
   ]
  },
  {
   "cell_type": "code",
   "execution_count": 70,
   "metadata": {},
   "outputs": [
    {
     "data": {
      "text/html": [
       "<div>\n",
       "<style scoped>\n",
       "    .dataframe tbody tr th:only-of-type {\n",
       "        vertical-align: middle;\n",
       "    }\n",
       "\n",
       "    .dataframe tbody tr th {\n",
       "        vertical-align: top;\n",
       "    }\n",
       "\n",
       "    .dataframe thead th {\n",
       "        text-align: right;\n",
       "    }\n",
       "</style>\n",
       "<table border=\"1\" class=\"dataframe\">\n",
       "  <thead>\n",
       "    <tr style=\"text-align: right;\">\n",
       "      <th></th>\n",
       "      <th>FECHA_CONSULTA</th>\n",
       "      <th>FECHA_INICIO</th>\n",
       "      <th>FECHA_FIN</th>\n",
       "      <th>CIUDAD_ORIGEN</th>\n",
       "      <th>CIUDAD_DESTINO</th>\n",
       "      <th>TIPO_TREN</th>\n",
       "      <th>TIPO_TARIFA</th>\n",
       "      <th>CLASE</th>\n",
       "      <th>PRECIO</th>\n",
       "      <th>DAYS_TO_TRIP</th>\n",
       "    </tr>\n",
       "  </thead>\n",
       "  <tbody>\n",
       "    <tr>\n",
       "      <th>0</th>\n",
       "      <td>2019-05-25 01:43:03</td>\n",
       "      <td>2019-06-28 20:36:00</td>\n",
       "      <td>2019-06-28 23:14:00</td>\n",
       "      <td>SEVILLA</td>\n",
       "      <td>MADRID</td>\n",
       "      <td>ALVIA</td>\n",
       "      <td>Flexible</td>\n",
       "      <td>Turista</td>\n",
       "      <td>67.20</td>\n",
       "      <td>34.79</td>\n",
       "    </tr>\n",
       "    <tr>\n",
       "      <th>1</th>\n",
       "      <td>2019-06-22 13:05:11</td>\n",
       "      <td>2019-07-14 10:00:00</td>\n",
       "      <td>2019-07-14 13:10:00</td>\n",
       "      <td>BARCELONA</td>\n",
       "      <td>MADRID</td>\n",
       "      <td>AVE</td>\n",
       "      <td>Flexible</td>\n",
       "      <td>Turista</td>\n",
       "      <td>107.70</td>\n",
       "      <td>21.87</td>\n",
       "    </tr>\n",
       "    <tr>\n",
       "      <th>2</th>\n",
       "      <td>2019-04-17 06:24:03</td>\n",
       "      <td>2019-05-23 13:40:00</td>\n",
       "      <td>2019-05-23 16:10:00</td>\n",
       "      <td>SEVILLA</td>\n",
       "      <td>MADRID</td>\n",
       "      <td>AVE</td>\n",
       "      <td>Promo</td>\n",
       "      <td>Turista</td>\n",
       "      <td>47.30</td>\n",
       "      <td>36.30</td>\n",
       "    </tr>\n",
       "    <tr>\n",
       "      <th>3</th>\n",
       "      <td>2019-05-10 21:21:59</td>\n",
       "      <td>2019-05-29 14:50:00</td>\n",
       "      <td>2019-05-29 22:30:00</td>\n",
       "      <td>VALENCIA</td>\n",
       "      <td>MADRID</td>\n",
       "      <td>REGIONAL</td>\n",
       "      <td>Adulto ida</td>\n",
       "      <td>Turista</td>\n",
       "      <td>28.35</td>\n",
       "      <td>18.73</td>\n",
       "    </tr>\n",
       "    <tr>\n",
       "      <th>4</th>\n",
       "      <td>2019-05-09 19:43:37</td>\n",
       "      <td>2019-06-26 13:25:00</td>\n",
       "      <td>2019-06-26 16:24:00</td>\n",
       "      <td>MADRID</td>\n",
       "      <td>BARCELONA</td>\n",
       "      <td>AVE-TGV</td>\n",
       "      <td>Promo</td>\n",
       "      <td>Turista</td>\n",
       "      <td>66.75</td>\n",
       "      <td>47.74</td>\n",
       "    </tr>\n",
       "  </tbody>\n",
       "</table>\n",
       "</div>"
      ],
      "text/plain": [
       "       FECHA_CONSULTA        FECHA_INICIO           FECHA_FIN CIUDAD_ORIGEN  \\\n",
       "0 2019-05-25 01:43:03 2019-06-28 20:36:00 2019-06-28 23:14:00       SEVILLA   \n",
       "1 2019-06-22 13:05:11 2019-07-14 10:00:00 2019-07-14 13:10:00     BARCELONA   \n",
       "2 2019-04-17 06:24:03 2019-05-23 13:40:00 2019-05-23 16:10:00       SEVILLA   \n",
       "3 2019-05-10 21:21:59 2019-05-29 14:50:00 2019-05-29 22:30:00      VALENCIA   \n",
       "4 2019-05-09 19:43:37 2019-06-26 13:25:00 2019-06-26 16:24:00        MADRID   \n",
       "\n",
       "  CIUDAD_DESTINO TIPO_TREN TIPO_TARIFA    CLASE  PRECIO  DAYS_TO_TRIP  \n",
       "0         MADRID     ALVIA    Flexible  Turista   67.20         34.79  \n",
       "1         MADRID       AVE    Flexible  Turista  107.70         21.87  \n",
       "2         MADRID       AVE       Promo  Turista   47.30         36.30  \n",
       "3         MADRID  REGIONAL  Adulto ida  Turista   28.35         18.73  \n",
       "4      BARCELONA   AVE-TGV       Promo  Turista   66.75         47.74  "
      ]
     },
     "execution_count": 70,
     "metadata": {},
     "output_type": "execute_result"
    }
   ],
   "source": [
    "renfe4.head()"
   ]
  },
  {
   "cell_type": "code",
   "execution_count": 71,
   "metadata": {},
   "outputs": [],
   "source": [
    "renfe4[\"JOURNEY_TIME\"]= (renfe4[\"FECHA_FIN\"]-renfe4[\"FECHA_INICIO\"])/np.timedelta64(1,'m')"
   ]
  },
  {
   "cell_type": "code",
   "execution_count": 72,
   "metadata": {},
   "outputs": [
    {
     "data": {
      "text/html": [
       "<div>\n",
       "<style scoped>\n",
       "    .dataframe tbody tr th:only-of-type {\n",
       "        vertical-align: middle;\n",
       "    }\n",
       "\n",
       "    .dataframe tbody tr th {\n",
       "        vertical-align: top;\n",
       "    }\n",
       "\n",
       "    .dataframe thead th {\n",
       "        text-align: right;\n",
       "    }\n",
       "</style>\n",
       "<table border=\"1\" class=\"dataframe\">\n",
       "  <thead>\n",
       "    <tr style=\"text-align: right;\">\n",
       "      <th></th>\n",
       "      <th>FECHA_CONSULTA</th>\n",
       "      <th>FECHA_INICIO</th>\n",
       "      <th>FECHA_FIN</th>\n",
       "      <th>CIUDAD_ORIGEN</th>\n",
       "      <th>CIUDAD_DESTINO</th>\n",
       "      <th>TIPO_TREN</th>\n",
       "      <th>TIPO_TARIFA</th>\n",
       "      <th>CLASE</th>\n",
       "      <th>PRECIO</th>\n",
       "      <th>DAYS_TO_TRIP</th>\n",
       "      <th>JOURNEY_TIME</th>\n",
       "    </tr>\n",
       "  </thead>\n",
       "  <tbody>\n",
       "    <tr>\n",
       "      <th>0</th>\n",
       "      <td>2019-05-25 01:43:03</td>\n",
       "      <td>2019-06-28 20:36:00</td>\n",
       "      <td>2019-06-28 23:14:00</td>\n",
       "      <td>SEVILLA</td>\n",
       "      <td>MADRID</td>\n",
       "      <td>ALVIA</td>\n",
       "      <td>Flexible</td>\n",
       "      <td>Turista</td>\n",
       "      <td>67.20</td>\n",
       "      <td>34.79</td>\n",
       "      <td>158.0</td>\n",
       "    </tr>\n",
       "    <tr>\n",
       "      <th>1</th>\n",
       "      <td>2019-06-22 13:05:11</td>\n",
       "      <td>2019-07-14 10:00:00</td>\n",
       "      <td>2019-07-14 13:10:00</td>\n",
       "      <td>BARCELONA</td>\n",
       "      <td>MADRID</td>\n",
       "      <td>AVE</td>\n",
       "      <td>Flexible</td>\n",
       "      <td>Turista</td>\n",
       "      <td>107.70</td>\n",
       "      <td>21.87</td>\n",
       "      <td>190.0</td>\n",
       "    </tr>\n",
       "    <tr>\n",
       "      <th>2</th>\n",
       "      <td>2019-04-17 06:24:03</td>\n",
       "      <td>2019-05-23 13:40:00</td>\n",
       "      <td>2019-05-23 16:10:00</td>\n",
       "      <td>SEVILLA</td>\n",
       "      <td>MADRID</td>\n",
       "      <td>AVE</td>\n",
       "      <td>Promo</td>\n",
       "      <td>Turista</td>\n",
       "      <td>47.30</td>\n",
       "      <td>36.30</td>\n",
       "      <td>150.0</td>\n",
       "    </tr>\n",
       "    <tr>\n",
       "      <th>3</th>\n",
       "      <td>2019-05-10 21:21:59</td>\n",
       "      <td>2019-05-29 14:50:00</td>\n",
       "      <td>2019-05-29 22:30:00</td>\n",
       "      <td>VALENCIA</td>\n",
       "      <td>MADRID</td>\n",
       "      <td>REGIONAL</td>\n",
       "      <td>Adulto ida</td>\n",
       "      <td>Turista</td>\n",
       "      <td>28.35</td>\n",
       "      <td>18.73</td>\n",
       "      <td>460.0</td>\n",
       "    </tr>\n",
       "    <tr>\n",
       "      <th>4</th>\n",
       "      <td>2019-05-09 19:43:37</td>\n",
       "      <td>2019-06-26 13:25:00</td>\n",
       "      <td>2019-06-26 16:24:00</td>\n",
       "      <td>MADRID</td>\n",
       "      <td>BARCELONA</td>\n",
       "      <td>AVE-TGV</td>\n",
       "      <td>Promo</td>\n",
       "      <td>Turista</td>\n",
       "      <td>66.75</td>\n",
       "      <td>47.74</td>\n",
       "      <td>179.0</td>\n",
       "    </tr>\n",
       "  </tbody>\n",
       "</table>\n",
       "</div>"
      ],
      "text/plain": [
       "       FECHA_CONSULTA        FECHA_INICIO           FECHA_FIN CIUDAD_ORIGEN  \\\n",
       "0 2019-05-25 01:43:03 2019-06-28 20:36:00 2019-06-28 23:14:00       SEVILLA   \n",
       "1 2019-06-22 13:05:11 2019-07-14 10:00:00 2019-07-14 13:10:00     BARCELONA   \n",
       "2 2019-04-17 06:24:03 2019-05-23 13:40:00 2019-05-23 16:10:00       SEVILLA   \n",
       "3 2019-05-10 21:21:59 2019-05-29 14:50:00 2019-05-29 22:30:00      VALENCIA   \n",
       "4 2019-05-09 19:43:37 2019-06-26 13:25:00 2019-06-26 16:24:00        MADRID   \n",
       "\n",
       "  CIUDAD_DESTINO TIPO_TREN TIPO_TARIFA    CLASE  PRECIO  DAYS_TO_TRIP  \\\n",
       "0         MADRID     ALVIA    Flexible  Turista   67.20         34.79   \n",
       "1         MADRID       AVE    Flexible  Turista  107.70         21.87   \n",
       "2         MADRID       AVE       Promo  Turista   47.30         36.30   \n",
       "3         MADRID  REGIONAL  Adulto ida  Turista   28.35         18.73   \n",
       "4      BARCELONA   AVE-TGV       Promo  Turista   66.75         47.74   \n",
       "\n",
       "   JOURNEY_TIME  \n",
       "0         158.0  \n",
       "1         190.0  \n",
       "2         150.0  \n",
       "3         460.0  \n",
       "4         179.0  "
      ]
     },
     "execution_count": 72,
     "metadata": {},
     "output_type": "execute_result"
    }
   ],
   "source": [
    "renfe4.head()"
   ]
  },
  {
   "cell_type": "markdown",
   "metadata": {},
   "source": [
    "# After creating new column, Let´s drop oldones"
   ]
  },
  {
   "cell_type": "code",
   "execution_count": 73,
   "metadata": {},
   "outputs": [],
   "source": [
    "\n",
    "renfe4.drop(columns=[\"FECHA_INICIO\",\"FECHA_FIN\",\"FECHA_CONSULTA\"],inplace=True)\t"
   ]
  },
  {
   "cell_type": "code",
   "execution_count": 74,
   "metadata": {},
   "outputs": [
    {
     "name": "stdout",
     "output_type": "stream",
     "text": [
      "<class 'pandas.core.frame.DataFrame'>\n",
      "RangeIndex: 355028 entries, 0 to 355027\n",
      "Data columns (total 8 columns):\n",
      " #   Column          Non-Null Count   Dtype  \n",
      "---  ------          --------------   -----  \n",
      " 0   CIUDAD_ORIGEN   355028 non-null  object \n",
      " 1   CIUDAD_DESTINO  355028 non-null  object \n",
      " 2   TIPO_TREN       355028 non-null  object \n",
      " 3   TIPO_TARIFA     355028 non-null  object \n",
      " 4   CLASE           355028 non-null  object \n",
      " 5   PRECIO          355028 non-null  float64\n",
      " 6   DAYS_TO_TRIP    355028 non-null  float64\n",
      " 7   JOURNEY_TIME    355028 non-null  float64\n",
      "dtypes: float64(3), object(5)\n",
      "memory usage: 21.7+ MB\n"
     ]
    }
   ],
   "source": [
    "renfe4.info()\n"
   ]
  },
  {
   "cell_type": "code",
   "execution_count": null,
   "metadata": {},
   "outputs": [],
   "source": []
  },
  {
   "cell_type": "code",
   "execution_count": 75,
   "metadata": {},
   "outputs": [],
   "source": [
    "renfe5 = renfe4.copy()"
   ]
  }
 ],
 "metadata": {
  "kernelspec": {
   "display_name": "Python 3",
   "language": "python",
   "name": "python3"
  },
  "language_info": {
   "codemirror_mode": {
    "name": "ipython",
    "version": 3
   },
   "file_extension": ".py",
   "mimetype": "text/x-python",
   "name": "python",
   "nbconvert_exporter": "python",
   "pygments_lexer": "ipython3",
   "version": "3.12.3"
  }
 },
 "nbformat": 4,
 "nbformat_minor": 2
}
